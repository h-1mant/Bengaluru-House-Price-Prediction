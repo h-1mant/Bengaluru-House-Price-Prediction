{
 "cells": [
  {
   "cell_type": "markdown",
   "id": "fa5bfff6",
   "metadata": {},
   "source": [
    "# Bengaluru House Price Prediction\n",
    "---"
   ]
  },
  {
   "cell_type": "code",
   "execution_count": 1995,
   "id": "61fa0680",
   "metadata": {},
   "outputs": [],
   "source": [
    "import pandas as pd\n",
    "import numpy as np\n",
    "import matplotlib.pyplot as plt\n",
    "import seaborn as sns"
   ]
  },
  {
   "cell_type": "code",
   "execution_count": 1996,
   "id": "911b19d1",
   "metadata": {},
   "outputs": [],
   "source": [
    "df = pd.read_csv('Bengaluru_House_Data.csv')"
   ]
  },
  {
   "cell_type": "code",
   "execution_count": 1997,
   "id": "094e5a18",
   "metadata": {
    "scrolled": true
   },
   "outputs": [
    {
     "data": {
      "text/html": [
       "<div>\n",
       "<style scoped>\n",
       "    .dataframe tbody tr th:only-of-type {\n",
       "        vertical-align: middle;\n",
       "    }\n",
       "\n",
       "    .dataframe tbody tr th {\n",
       "        vertical-align: top;\n",
       "    }\n",
       "\n",
       "    .dataframe thead th {\n",
       "        text-align: right;\n",
       "    }\n",
       "</style>\n",
       "<table border=\"1\" class=\"dataframe\">\n",
       "  <thead>\n",
       "    <tr style=\"text-align: right;\">\n",
       "      <th></th>\n",
       "      <th>area_type</th>\n",
       "      <th>availability</th>\n",
       "      <th>location</th>\n",
       "      <th>size</th>\n",
       "      <th>society</th>\n",
       "      <th>total_sqft</th>\n",
       "      <th>bath</th>\n",
       "      <th>balcony</th>\n",
       "      <th>price</th>\n",
       "    </tr>\n",
       "  </thead>\n",
       "  <tbody>\n",
       "    <tr>\n",
       "      <th>0</th>\n",
       "      <td>Super built-up  Area</td>\n",
       "      <td>19-Dec</td>\n",
       "      <td>Electronic City Phase II</td>\n",
       "      <td>2 BHK</td>\n",
       "      <td>Coomee</td>\n",
       "      <td>1056</td>\n",
       "      <td>2.0</td>\n",
       "      <td>1.0</td>\n",
       "      <td>39.07</td>\n",
       "    </tr>\n",
       "    <tr>\n",
       "      <th>1</th>\n",
       "      <td>Plot  Area</td>\n",
       "      <td>Ready To Move</td>\n",
       "      <td>Chikka Tirupathi</td>\n",
       "      <td>4 Bedroom</td>\n",
       "      <td>Theanmp</td>\n",
       "      <td>2600</td>\n",
       "      <td>5.0</td>\n",
       "      <td>3.0</td>\n",
       "      <td>120.00</td>\n",
       "    </tr>\n",
       "    <tr>\n",
       "      <th>2</th>\n",
       "      <td>Built-up  Area</td>\n",
       "      <td>Ready To Move</td>\n",
       "      <td>Uttarahalli</td>\n",
       "      <td>3 BHK</td>\n",
       "      <td>NaN</td>\n",
       "      <td>1440</td>\n",
       "      <td>2.0</td>\n",
       "      <td>3.0</td>\n",
       "      <td>62.00</td>\n",
       "    </tr>\n",
       "    <tr>\n",
       "      <th>3</th>\n",
       "      <td>Super built-up  Area</td>\n",
       "      <td>Ready To Move</td>\n",
       "      <td>Lingadheeranahalli</td>\n",
       "      <td>3 BHK</td>\n",
       "      <td>Soiewre</td>\n",
       "      <td>1521</td>\n",
       "      <td>3.0</td>\n",
       "      <td>1.0</td>\n",
       "      <td>95.00</td>\n",
       "    </tr>\n",
       "    <tr>\n",
       "      <th>4</th>\n",
       "      <td>Super built-up  Area</td>\n",
       "      <td>Ready To Move</td>\n",
       "      <td>Kothanur</td>\n",
       "      <td>2 BHK</td>\n",
       "      <td>NaN</td>\n",
       "      <td>1200</td>\n",
       "      <td>2.0</td>\n",
       "      <td>1.0</td>\n",
       "      <td>51.00</td>\n",
       "    </tr>\n",
       "  </tbody>\n",
       "</table>\n",
       "</div>"
      ],
      "text/plain": [
       "              area_type   availability                  location       size  \\\n",
       "0  Super built-up  Area         19-Dec  Electronic City Phase II      2 BHK   \n",
       "1            Plot  Area  Ready To Move          Chikka Tirupathi  4 Bedroom   \n",
       "2        Built-up  Area  Ready To Move               Uttarahalli      3 BHK   \n",
       "3  Super built-up  Area  Ready To Move        Lingadheeranahalli      3 BHK   \n",
       "4  Super built-up  Area  Ready To Move                  Kothanur      2 BHK   \n",
       "\n",
       "   society total_sqft  bath  balcony   price  \n",
       "0  Coomee        1056   2.0      1.0   39.07  \n",
       "1  Theanmp       2600   5.0      3.0  120.00  \n",
       "2      NaN       1440   2.0      3.0   62.00  \n",
       "3  Soiewre       1521   3.0      1.0   95.00  \n",
       "4      NaN       1200   2.0      1.0   51.00  "
      ]
     },
     "execution_count": 1997,
     "metadata": {},
     "output_type": "execute_result"
    }
   ],
   "source": [
    "df.head()"
   ]
  },
  {
   "cell_type": "code",
   "execution_count": 1998,
   "id": "27ae1192",
   "metadata": {
    "scrolled": false
   },
   "outputs": [
    {
     "data": {
      "text/plain": [
       "(13320, 9)"
      ]
     },
     "execution_count": 1998,
     "metadata": {},
     "output_type": "execute_result"
    }
   ],
   "source": [
    "df.shape"
   ]
  },
  {
   "cell_type": "code",
   "execution_count": 1999,
   "id": "ec8eb619",
   "metadata": {},
   "outputs": [
    {
     "name": "stdout",
     "output_type": "stream",
     "text": [
      "AREA_TYPE object\n",
      "Built-up  Area          2418\n",
      "Carpet  Area              87\n",
      "Plot  Area              2025\n",
      "Super built-up  Area    8790\n",
      "Name: area_type, dtype: int64\n",
      "\n",
      "\n",
      "------------\n",
      "\n",
      "\n",
      "AVAILABILITY object\n",
      "14-Jul                      1\n",
      "14-Nov                      1\n",
      "15-Aug                      1\n",
      "15-Dec                      1\n",
      "15-Jun                      1\n",
      "                        ...  \n",
      "22-Mar                      3\n",
      "22-May                     10\n",
      "22-Nov                      2\n",
      "Immediate Possession       16\n",
      "Ready To Move           10581\n",
      "Name: availability, Length: 81, dtype: int64\n",
      "\n",
      "\n",
      "------------\n",
      "\n",
      "\n",
      "LOCATION object\n",
      " Anekal                 1\n",
      " Banaswadi              1\n",
      " Basavangudi            1\n",
      " Bhoganhalli            1\n",
      " Devarabeesana Halli    6\n",
      "                       ..\n",
      "t.c palya               1\n",
      "tc.palya                4\n",
      "vinayakanagar           1\n",
      "white field,kadugodi    1\n",
      "whitefiled              1\n",
      "Name: location, Length: 1305, dtype: int64\n",
      "\n",
      "\n",
      "------------\n",
      "\n",
      "\n",
      "SIZE object\n",
      "1 BHK          538\n",
      "1 Bedroom      105\n",
      "1 RK            13\n",
      "10 BHK           2\n",
      "10 Bedroom      12\n",
      "11 BHK           2\n",
      "11 Bedroom       2\n",
      "12 Bedroom       1\n",
      "13 BHK           1\n",
      "14 BHK           1\n",
      "16 BHK           1\n",
      "18 Bedroom       1\n",
      "19 BHK           1\n",
      "2 BHK         5199\n",
      "2 Bedroom      329\n",
      "27 BHK           1\n",
      "3 BHK         4310\n",
      "3 Bedroom      547\n",
      "4 BHK          591\n",
      "4 Bedroom      826\n",
      "43 Bedroom       1\n",
      "5 BHK           59\n",
      "5 Bedroom      297\n",
      "6 BHK           30\n",
      "6 Bedroom      191\n",
      "7 BHK           17\n",
      "7 Bedroom       83\n",
      "8 BHK            5\n",
      "8 Bedroom       84\n",
      "9 BHK            8\n",
      "9 Bedroom       46\n",
      "Name: size, dtype: int64\n",
      "\n",
      "\n",
      "------------\n",
      "\n",
      "\n",
      "SOCIETY object\n",
      "3Codeli    2\n",
      "7 ise P    1\n",
      "A idse     2\n",
      "A rtsai    1\n",
      "ACersd     1\n",
      "          ..\n",
      "Zonce E    2\n",
      "Zostaa     3\n",
      "i1ncyRe    1\n",
      "i1odsne    1\n",
      "i1rtsCo    3\n",
      "Name: society, Length: 2688, dtype: int64\n",
      "\n",
      "\n",
      "------------\n",
      "\n",
      "\n",
      "TOTAL_SQFT object\n",
      "1                1\n",
      "1.25Acres        1\n",
      "1.26Acres        1\n",
      "1000           172\n",
      "1000 - 1285      1\n",
      "              ... \n",
      "995             10\n",
      "996              4\n",
      "997              2\n",
      "998              1\n",
      "999              3\n",
      "Name: total_sqft, Length: 2117, dtype: int64\n",
      "\n",
      "\n",
      "------------\n",
      "\n",
      "\n",
      "BATH float64\n",
      "1.0      788\n",
      "2.0     6908\n",
      "3.0     3286\n",
      "4.0     1226\n",
      "5.0      524\n",
      "6.0      273\n",
      "7.0      102\n",
      "8.0       64\n",
      "9.0       43\n",
      "10.0      13\n",
      "11.0       3\n",
      "12.0       7\n",
      "13.0       3\n",
      "14.0       1\n",
      "15.0       1\n",
      "16.0       2\n",
      "18.0       1\n",
      "27.0       1\n",
      "40.0       1\n",
      "Name: bath, dtype: int64\n",
      "\n",
      "\n",
      "------------\n",
      "\n",
      "\n",
      "BALCONY float64\n",
      "0.0    1029\n",
      "1.0    4897\n",
      "2.0    5113\n",
      "3.0    1672\n",
      "Name: balcony, dtype: int64\n",
      "\n",
      "\n",
      "------------\n",
      "\n",
      "\n",
      "PRICE float64\n",
      "8.00       1\n",
      "8.44       1\n",
      "9.00       1\n",
      "10.00      6\n",
      "10.25      2\n",
      "          ..\n",
      "2700.00    1\n",
      "2736.00    1\n",
      "2800.00    1\n",
      "2912.00    1\n",
      "3600.00    1\n",
      "Name: price, Length: 1994, dtype: int64\n",
      "\n",
      "\n",
      "------------\n",
      "\n",
      "\n"
     ]
    }
   ],
   "source": [
    "for col in df.columns:\n",
    "    print(col.upper(),df[col].dtype)\n",
    "    print(df[col].value_counts().sort_index())\n",
    "    print('\\n\\n------------\\n\\n')"
   ]
  },
  {
   "cell_type": "markdown",
   "id": "e4cf7d79",
   "metadata": {},
   "source": [
    "---\n",
    "## Missing Values"
   ]
  },
  {
   "cell_type": "code",
   "execution_count": 2000,
   "id": "cb33a1bd",
   "metadata": {},
   "outputs": [
    {
     "data": {
      "image/png": "[encoded data removed]",
      "text/plain": [
       "<Figure size 432x288 with 1 Axes>"
      ]
     },
     "metadata": {
      "needs_background": "light"
     },
     "output_type": "display_data"
    }
   ],
   "source": [
    "#define percentage missing values\n",
    "def percent_missing(df):\n",
    "    percent_nan = 100* df.isnull().sum() / len(df)\n",
    "    percent_nan = percent_nan[percent_nan>0].sort_values()\n",
    "    return percent_nan\n",
    "\n",
    "percent_nan = percent_missing(df)\n",
    "\n",
    "#plot barplot\n",
    "sns.barplot(x=percent_nan.index,y=percent_nan)\n",
    "plt.xticks(rotation=90)\n",
    "plt.title('percentage of missing values vs. attribute')\n",
    "plt.xlabel('attribute')\n",
    "plt.ylabel('percentage');"
   ]
  },
  {
   "cell_type": "markdown",
   "id": "83b17bb2",
   "metadata": {},
   "source": [
    "All records having less than 1% missing values are removed. "
   ]
  },
  {
   "cell_type": "code",
   "execution_count": 2001,
   "id": "edb7bb05",
   "metadata": {},
   "outputs": [],
   "source": [
    "df = df.dropna(subset=['location','size','bath'])"
   ]
  },
  {
   "cell_type": "markdown",
   "id": "81ef6354",
   "metadata": {},
   "source": [
    "---\n",
    "## Identify relevant features "
   ]
  },
  {
   "cell_type": "markdown",
   "id": "67064e3e",
   "metadata": {},
   "source": [
    "- ### area_type"
   ]
  },
  {
   "cell_type": "markdown",
   "id": "4ed16321",
   "metadata": {},
   "source": [
    "**Used to convert area in total sq.ft into Carpet Area, then dropped.**"
   ]
  },
  {
   "cell_type": "markdown",
   "id": "30fa2dbd",
   "metadata": {},
   "source": [
    "FORMULAE USED:\n",
    "\n",
    "- Carpet Area : 70% Built-Up Area\n",
    "- Carpet Area : 65% Super Built-Up Area\n",
    "- Carpet Area : 60% Plot Area"
   ]
  },
  {
   "cell_type": "code",
   "execution_count": 2002,
   "id": "b2e6520e",
   "metadata": {},
   "outputs": [
    {
     "name": "stdout",
     "output_type": "stream",
     "text": [
      "['Super built-up  Area' 'Plot  Area' 'Built-up  Area' 'Carpet  Area']\n"
     ]
    }
   ],
   "source": [
    "print(df['area_type'].unique())"
   ]
  },
  {
   "cell_type": "code",
   "execution_count": 2003,
   "id": "4352dca2",
   "metadata": {
    "scrolled": true
   },
   "outputs": [
    {
     "data": {
      "text/plain": [
       "array(['1056', '2600', '1440', ..., '1133 - 1384', '774', '4689'],\n",
       "      dtype=object)"
      ]
     },
     "execution_count": 2003,
     "metadata": {},
     "output_type": "execute_result"
    }
   ],
   "source": [
    "#conversion into numerical values required\n",
    "df['total_sqft'].unique()"
   ]
  },
  {
   "cell_type": "code",
   "execution_count": 2004,
   "id": "9648280e",
   "metadata": {},
   "outputs": [],
   "source": [
    "def sqft_calc(x):\n",
    "    \n",
    "    temp = x.split('-')\n",
    "    if len(temp) == 2:\n",
    "        return ( float(temp[0]) + float(temp[1]) ) / 2\n",
    "    \n",
    "    try:\n",
    "        return float(x)\n",
    "    \n",
    "    except:\n",
    "        return None"
   ]
  },
  {
   "cell_type": "code",
   "execution_count": 2005,
   "id": "2717d668",
   "metadata": {},
   "outputs": [],
   "source": [
    "df['total_sqft'] = df['total_sqft'].apply(sqft_calc)"
   ]
  },
  {
   "cell_type": "code",
   "execution_count": 2006,
   "id": "9e3b26fe",
   "metadata": {},
   "outputs": [
    {
     "data": {
      "text/html": [
       "<div>\n",
       "<style scoped>\n",
       "    .dataframe tbody tr th:only-of-type {\n",
       "        vertical-align: middle;\n",
       "    }\n",
       "\n",
       "    .dataframe tbody tr th {\n",
       "        vertical-align: top;\n",
       "    }\n",
       "\n",
       "    .dataframe thead th {\n",
       "        text-align: right;\n",
       "    }\n",
       "</style>\n",
       "<table border=\"1\" class=\"dataframe\">\n",
       "  <thead>\n",
       "    <tr style=\"text-align: right;\">\n",
       "      <th></th>\n",
       "      <th>area_type</th>\n",
       "      <th>availability</th>\n",
       "      <th>location</th>\n",
       "      <th>size</th>\n",
       "      <th>society</th>\n",
       "      <th>total_sqft</th>\n",
       "      <th>bath</th>\n",
       "      <th>balcony</th>\n",
       "      <th>price</th>\n",
       "    </tr>\n",
       "  </thead>\n",
       "  <tbody>\n",
       "    <tr>\n",
       "      <th>0</th>\n",
       "      <td>Super built-up  Area</td>\n",
       "      <td>19-Dec</td>\n",
       "      <td>Electronic City Phase II</td>\n",
       "      <td>2 BHK</td>\n",
       "      <td>Coomee</td>\n",
       "      <td>1056.0</td>\n",
       "      <td>2.0</td>\n",
       "      <td>1.0</td>\n",
       "      <td>39.07</td>\n",
       "    </tr>\n",
       "    <tr>\n",
       "      <th>1</th>\n",
       "      <td>Plot  Area</td>\n",
       "      <td>Ready To Move</td>\n",
       "      <td>Chikka Tirupathi</td>\n",
       "      <td>4 Bedroom</td>\n",
       "      <td>Theanmp</td>\n",
       "      <td>2600.0</td>\n",
       "      <td>5.0</td>\n",
       "      <td>3.0</td>\n",
       "      <td>120.00</td>\n",
       "    </tr>\n",
       "    <tr>\n",
       "      <th>2</th>\n",
       "      <td>Built-up  Area</td>\n",
       "      <td>Ready To Move</td>\n",
       "      <td>Uttarahalli</td>\n",
       "      <td>3 BHK</td>\n",
       "      <td>NaN</td>\n",
       "      <td>1440.0</td>\n",
       "      <td>2.0</td>\n",
       "      <td>3.0</td>\n",
       "      <td>62.00</td>\n",
       "    </tr>\n",
       "    <tr>\n",
       "      <th>3</th>\n",
       "      <td>Super built-up  Area</td>\n",
       "      <td>Ready To Move</td>\n",
       "      <td>Lingadheeranahalli</td>\n",
       "      <td>3 BHK</td>\n",
       "      <td>Soiewre</td>\n",
       "      <td>1521.0</td>\n",
       "      <td>3.0</td>\n",
       "      <td>1.0</td>\n",
       "      <td>95.00</td>\n",
       "    </tr>\n",
       "    <tr>\n",
       "      <th>4</th>\n",
       "      <td>Super built-up  Area</td>\n",
       "      <td>Ready To Move</td>\n",
       "      <td>Kothanur</td>\n",
       "      <td>2 BHK</td>\n",
       "      <td>NaN</td>\n",
       "      <td>1200.0</td>\n",
       "      <td>2.0</td>\n",
       "      <td>1.0</td>\n",
       "      <td>51.00</td>\n",
       "    </tr>\n",
       "  </tbody>\n",
       "</table>\n",
       "</div>"
      ],
      "text/plain": [
       "              area_type   availability                  location       size  \\\n",
       "0  Super built-up  Area         19-Dec  Electronic City Phase II      2 BHK   \n",
       "1            Plot  Area  Ready To Move          Chikka Tirupathi  4 Bedroom   \n",
       "2        Built-up  Area  Ready To Move               Uttarahalli      3 BHK   \n",
       "3  Super built-up  Area  Ready To Move        Lingadheeranahalli      3 BHK   \n",
       "4  Super built-up  Area  Ready To Move                  Kothanur      2 BHK   \n",
       "\n",
       "   society  total_sqft  bath  balcony   price  \n",
       "0  Coomee       1056.0   2.0      1.0   39.07  \n",
       "1  Theanmp      2600.0   5.0      3.0  120.00  \n",
       "2      NaN      1440.0   2.0      3.0   62.00  \n",
       "3  Soiewre      1521.0   3.0      1.0   95.00  \n",
       "4      NaN      1200.0   2.0      1.0   51.00  "
      ]
     },
     "execution_count": 2006,
     "metadata": {},
     "output_type": "execute_result"
    }
   ],
   "source": [
    "df.head()"
   ]
  },
  {
   "cell_type": "code",
   "execution_count": 2007,
   "id": "bd13d6c7",
   "metadata": {
    "scrolled": false
   },
   "outputs": [
    {
     "name": "stderr",
     "output_type": "stream",
     "text": [
      "C:\\Users\\imrvh\\anaconda3\\lib\\site-packages\\pandas\\core\\indexing.py:1637: SettingWithCopyWarning: \n",
      "A value is trying to be set on a copy of a slice from a DataFrame\n",
      "\n",
      "See the caveats in the documentation: https://pandas.pydata.org/pandas-docs/stable/user_guide/indexing.html#returning-a-view-versus-a-copy\n",
      "  self._setitem_single_block(indexer, value, name)\n"
     ]
    }
   ],
   "source": [
    "for i in df.index:\n",
    "    \n",
    "    if df['area_type'].loc[i] == 'Super built-up  Area':\n",
    "        df['total_sqft'].loc[i] *= 0.65\n",
    "    \n",
    "    elif df['area_type'].loc[i] == 'Plot  Area':\n",
    "        df['total_sqft'].loc[i] *= 0.6\n",
    "    \n",
    "    elif df['area_type'].loc[i] == 'Built-up  Area':\n",
    "        df['total_sqft'].loc[i] *= 0.7"
   ]
  },
  {
   "cell_type": "code",
   "execution_count": 2008,
   "id": "91cb44d1",
   "metadata": {},
   "outputs": [
    {
     "data": {
      "text/html": [
       "<div>\n",
       "<style scoped>\n",
       "    .dataframe tbody tr th:only-of-type {\n",
       "        vertical-align: middle;\n",
       "    }\n",
       "\n",
       "    .dataframe tbody tr th {\n",
       "        vertical-align: top;\n",
       "    }\n",
       "\n",
       "    .dataframe thead th {\n",
       "        text-align: right;\n",
       "    }\n",
       "</style>\n",
       "<table border=\"1\" class=\"dataframe\">\n",
       "  <thead>\n",
       "    <tr style=\"text-align: right;\">\n",
       "      <th></th>\n",
       "      <th>area_type</th>\n",
       "      <th>availability</th>\n",
       "      <th>location</th>\n",
       "      <th>size</th>\n",
       "      <th>society</th>\n",
       "      <th>total_sqft</th>\n",
       "      <th>bath</th>\n",
       "      <th>balcony</th>\n",
       "      <th>price</th>\n",
       "    </tr>\n",
       "  </thead>\n",
       "  <tbody>\n",
       "    <tr>\n",
       "      <th>0</th>\n",
       "      <td>Super built-up  Area</td>\n",
       "      <td>19-Dec</td>\n",
       "      <td>Electronic City Phase II</td>\n",
       "      <td>2 BHK</td>\n",
       "      <td>Coomee</td>\n",
       "      <td>686.40</td>\n",
       "      <td>2.0</td>\n",
       "      <td>1.0</td>\n",
       "      <td>39.07</td>\n",
       "    </tr>\n",
       "    <tr>\n",
       "      <th>1</th>\n",
       "      <td>Plot  Area</td>\n",
       "      <td>Ready To Move</td>\n",
       "      <td>Chikka Tirupathi</td>\n",
       "      <td>4 Bedroom</td>\n",
       "      <td>Theanmp</td>\n",
       "      <td>1560.00</td>\n",
       "      <td>5.0</td>\n",
       "      <td>3.0</td>\n",
       "      <td>120.00</td>\n",
       "    </tr>\n",
       "    <tr>\n",
       "      <th>2</th>\n",
       "      <td>Built-up  Area</td>\n",
       "      <td>Ready To Move</td>\n",
       "      <td>Uttarahalli</td>\n",
       "      <td>3 BHK</td>\n",
       "      <td>NaN</td>\n",
       "      <td>1008.00</td>\n",
       "      <td>2.0</td>\n",
       "      <td>3.0</td>\n",
       "      <td>62.00</td>\n",
       "    </tr>\n",
       "    <tr>\n",
       "      <th>3</th>\n",
       "      <td>Super built-up  Area</td>\n",
       "      <td>Ready To Move</td>\n",
       "      <td>Lingadheeranahalli</td>\n",
       "      <td>3 BHK</td>\n",
       "      <td>Soiewre</td>\n",
       "      <td>988.65</td>\n",
       "      <td>3.0</td>\n",
       "      <td>1.0</td>\n",
       "      <td>95.00</td>\n",
       "    </tr>\n",
       "    <tr>\n",
       "      <th>4</th>\n",
       "      <td>Super built-up  Area</td>\n",
       "      <td>Ready To Move</td>\n",
       "      <td>Kothanur</td>\n",
       "      <td>2 BHK</td>\n",
       "      <td>NaN</td>\n",
       "      <td>780.00</td>\n",
       "      <td>2.0</td>\n",
       "      <td>1.0</td>\n",
       "      <td>51.00</td>\n",
       "    </tr>\n",
       "  </tbody>\n",
       "</table>\n",
       "</div>"
      ],
      "text/plain": [
       "              area_type   availability                  location       size  \\\n",
       "0  Super built-up  Area         19-Dec  Electronic City Phase II      2 BHK   \n",
       "1            Plot  Area  Ready To Move          Chikka Tirupathi  4 Bedroom   \n",
       "2        Built-up  Area  Ready To Move               Uttarahalli      3 BHK   \n",
       "3  Super built-up  Area  Ready To Move        Lingadheeranahalli      3 BHK   \n",
       "4  Super built-up  Area  Ready To Move                  Kothanur      2 BHK   \n",
       "\n",
       "   society  total_sqft  bath  balcony   price  \n",
       "0  Coomee       686.40   2.0      1.0   39.07  \n",
       "1  Theanmp     1560.00   5.0      3.0  120.00  \n",
       "2      NaN     1008.00   2.0      3.0   62.00  \n",
       "3  Soiewre      988.65   3.0      1.0   95.00  \n",
       "4      NaN      780.00   2.0      1.0   51.00  "
      ]
     },
     "execution_count": 2008,
     "metadata": {},
     "output_type": "execute_result"
    }
   ],
   "source": [
    "df.head()"
   ]
  },
  {
   "cell_type": "code",
   "execution_count": 2009,
   "id": "04e80ed5",
   "metadata": {},
   "outputs": [],
   "source": [
    "df = df.drop('area_type',axis=1)"
   ]
  },
  {
   "cell_type": "markdown",
   "id": "33504d2a",
   "metadata": {},
   "source": [
    "- ### availability"
   ]
  },
  {
   "cell_type": "code",
   "execution_count": 2010,
   "id": "9cbd2c12",
   "metadata": {},
   "outputs": [
    {
     "data": {
      "text/plain": [
       "array(['19-Dec', 'Ready To Move', '18-May', '18-Feb', '18-Nov', '20-Dec',\n",
       "       '17-Oct', '21-Dec', '19-Sep', '20-Sep', '18-Mar', '18-Apr',\n",
       "       '20-Aug', '19-Mar', '17-Sep', '18-Dec', '17-Aug', '19-Apr',\n",
       "       '18-Jun', '22-Dec', '22-Jan', '18-Aug', '19-Jan', '17-Jul',\n",
       "       '18-Jul', '21-Jun', '20-May', '19-Aug', '18-Sep', '17-May',\n",
       "       '17-Jun', '18-Oct', '21-May', '18-Jan', '20-Mar', '17-Dec',\n",
       "       '16-Mar', '19-Jun', '22-Jun', '19-Jul', '21-Feb', '19-May',\n",
       "       '17-Nov', '20-Oct', '20-Jun', '19-Feb', '21-Oct', '21-Jan',\n",
       "       '17-Mar', '17-Apr', '22-May', '19-Oct', '21-Jul', '21-Nov',\n",
       "       '21-Mar', '16-Dec', '22-Mar', '20-Jan', '21-Sep', '21-Aug',\n",
       "       '14-Nov', '19-Nov', '15-Nov', '16-Jul', '15-Jun', '17-Feb',\n",
       "       '20-Nov', '20-Jul', '16-Sep', '15-Oct', '20-Feb', '15-Dec',\n",
       "       '16-Oct', '22-Nov', '15-Aug', '17-Jan', '16-Nov', '20-Apr',\n",
       "       '16-Jan', '14-Jul'], dtype=object)"
      ]
     },
     "execution_count": 2010,
     "metadata": {},
     "output_type": "execute_result"
    }
   ],
   "source": [
    "df['availability'].unique()"
   ]
  },
  {
   "cell_type": "code",
   "execution_count": 2011,
   "id": "123d8180",
   "metadata": {},
   "outputs": [],
   "source": [
    "#store ready to move houses\n",
    "d1 = df[df['availability'].isin(['Ready To Move','Immediate Possession'])]\n",
    "                           \n",
    "#store other\n",
    "d2 = df[(df['availability'] != 'Ready To Move') & (df['availability'] != 'Immediate Possession')]"
   ]
  },
  {
   "cell_type": "code",
   "execution_count": 2012,
   "id": "7ae28253",
   "metadata": {
    "scrolled": true
   },
   "outputs": [
    {
     "name": "stderr",
     "output_type": "stream",
     "text": [
      "<ipython-input-2012-46d06a8661ec>:1: SettingWithCopyWarning: \n",
      "A value is trying to be set on a copy of a slice from a DataFrame.\n",
      "Try using .loc[row_indexer,col_indexer] = value instead\n",
      "\n",
      "See the caveats in the documentation: https://pandas.pydata.org/pandas-docs/stable/user_guide/indexing.html#returning-a-view-versus-a-copy\n",
      "  d1['availability'] = 'ready_to_move'\n",
      "<ipython-input-2012-46d06a8661ec>:3: SettingWithCopyWarning: \n",
      "A value is trying to be set on a copy of a slice from a DataFrame.\n",
      "Try using .loc[row_indexer,col_indexer] = value instead\n",
      "\n",
      "See the caveats in the documentation: https://pandas.pydata.org/pandas-docs/stable/user_guide/indexing.html#returning-a-view-versus-a-copy\n",
      "  d2['availability'] = 'other'\n"
     ]
    }
   ],
   "source": [
    "d1['availability'] = 'ready_to_move'\n",
    "\n",
    "d2['availability'] = 'other'"
   ]
  },
  {
   "cell_type": "code",
   "execution_count": 2013,
   "id": "0fbff732",
   "metadata": {},
   "outputs": [
    {
     "data": {
      "image/png": "[encoded data removed]",
      "text/plain": [
       "<Figure size 800x400 with 1 Axes>"
      ]
     },
     "metadata": {
      "needs_background": "light"
     },
     "output_type": "display_data"
    }
   ],
   "source": [
    "plt.figure(figsize=(8,4),dpi=100)\n",
    "sns.boxplot(data = pd.concat([d1,d2]), x = 'price', y = 'availability',showmeans=True)\n",
    "plt.xlim(0,500);"
   ]
  },
  {
   "cell_type": "code",
   "execution_count": 2014,
   "id": "79250a49",
   "metadata": {
    "scrolled": true
   },
   "outputs": [
    {
     "data": {
      "text/plain": [
       "mean      115.084932\n",
       "median     73.950000\n",
       "Name: price, dtype: float64"
      ]
     },
     "execution_count": 2014,
     "metadata": {},
     "output_type": "execute_result"
    }
   ],
   "source": [
    "#mean and median of 'Ready to Move' homes\n",
    "d1['price'].agg(['mean','median'])"
   ]
  },
  {
   "cell_type": "code",
   "execution_count": 2015,
   "id": "4cf93765",
   "metadata": {
    "scrolled": true
   },
   "outputs": [
    {
     "data": {
      "text/plain": [
       "mean      101.772058\n",
       "median     67.000000\n",
       "Name: price, dtype: float64"
      ]
     },
     "execution_count": 2015,
     "metadata": {},
     "output_type": "execute_result"
    }
   ],
   "source": [
    "#mean and median of other homes\n",
    "d2['price'].agg(['mean','median'])"
   ]
  },
  {
   "cell_type": "markdown",
   "id": "7fd5ab99",
   "metadata": {},
   "source": [
    "**Ready to Move homes appear to sell at higher prices, so the feature is retained.**"
   ]
  },
  {
   "cell_type": "markdown",
   "id": "8671415f",
   "metadata": {},
   "source": [
    "- ### location"
   ]
  },
  {
   "cell_type": "markdown",
   "id": "9a792b22",
   "metadata": {},
   "source": [
    "Location is chosen to predict the house price."
   ]
  },
  {
   "cell_type": "markdown",
   "id": "b06251b6",
   "metadata": {},
   "source": [
    "- ### size (BHK)"
   ]
  },
  {
   "cell_type": "markdown",
   "id": "14dc1ab0",
   "metadata": {},
   "source": [
    "Size is chosen to predict the house price."
   ]
  },
  {
   "cell_type": "markdown",
   "id": "a86eb02d",
   "metadata": {},
   "source": [
    "- ### society"
   ]
  },
  {
   "cell_type": "code",
   "execution_count": 2016,
   "id": "b9e6484f",
   "metadata": {},
   "outputs": [
    {
     "data": {
      "text/plain": [
       "GrrvaGr    80\n",
       "PrarePa    71\n",
       "Sryalan    59\n",
       "Prtates    58\n",
       "GMown E    56\n",
       "           ..\n",
       "ShentAp     1\n",
       "Seardac     1\n",
       "APusenc     1\n",
       "HawerMa     1\n",
       "Metrais     1\n",
       "Name: society, Length: 2667, dtype: int64"
      ]
     },
     "execution_count": 2016,
     "metadata": {},
     "output_type": "execute_result"
    }
   ],
   "source": [
    "df['society'].value_counts()\n",
    "\n",
    "#2688 societies exist, inclusion into model increases dimensionality greatly"
   ]
  },
  {
   "cell_type": "code",
   "execution_count": 2017,
   "id": "827486b1",
   "metadata": {},
   "outputs": [
    {
     "data": {
      "text/plain": [
       "41.51"
      ]
     },
     "execution_count": 2017,
     "metadata": {},
     "output_type": "execute_result"
    }
   ],
   "source": [
    "np.round(100 * df.society.isnull().sum() / len(df),2)\n",
    "\n",
    "#Moreover, around 40 percent of society field is null, so we drop the column"
   ]
  },
  {
   "cell_type": "code",
   "execution_count": 2018,
   "id": "8845ca34",
   "metadata": {},
   "outputs": [],
   "source": [
    "df = df.drop('society',axis=1)"
   ]
  },
  {
   "cell_type": "code",
   "execution_count": 2019,
   "id": "c27abac2",
   "metadata": {
    "scrolled": true
   },
   "outputs": [
    {
     "data": {
      "image/png": "[encoded data removed]",
      "text/plain": [
       "<Figure size 432x288 with 1 Axes>"
      ]
     },
     "metadata": {
      "needs_background": "light"
     },
     "output_type": "display_data"
    }
   ],
   "source": [
    "percent_nan = percent_missing(df)\n",
    "\n",
    "#plot barplot\n",
    "sns.barplot(x=percent_nan.index,y=percent_nan)\n",
    "plt.xticks(rotation=90)\n",
    "plt.title('percentage of missing values vs. attribute')\n",
    "plt.xlabel('attribute')\n",
    "plt.ylabel('percentage');"
   ]
  },
  {
   "cell_type": "code",
   "execution_count": 2020,
   "id": "ffb869ca",
   "metadata": {},
   "outputs": [],
   "source": [
    "#null values in total_sqft appear due to conversion from str to float\n",
    "df = df.dropna(subset=['total_sqft'])"
   ]
  },
  {
   "cell_type": "code",
   "execution_count": 2021,
   "id": "23c3e9d2",
   "metadata": {},
   "outputs": [
    {
     "data": {
      "image/png": "[encoded data removed]",
      "text/plain": [
       "<Figure size 432x288 with 1 Axes>"
      ]
     },
     "metadata": {
      "needs_background": "light"
     },
     "output_type": "display_data"
    }
   ],
   "source": [
    "percent_nan = percent_missing(df)\n",
    "\n",
    "#plot barplot\n",
    "sns.barplot(x=percent_nan.index,y=percent_nan)\n",
    "plt.xticks(rotation=90)\n",
    "plt.title('percentage of missing values vs. attribute')\n",
    "plt.xlabel('attribute')\n",
    "plt.ylabel('percentage');"
   ]
  },
  {
   "cell_type": "markdown",
   "id": "48b80113",
   "metadata": {},
   "source": [
    "- ### total_sqft (area in square feet)"
   ]
  },
  {
   "cell_type": "markdown",
   "id": "78aeafb1",
   "metadata": {},
   "source": [
    "area in sq.ft is chosen to predict the house price."
   ]
  },
  {
   "cell_type": "markdown",
   "id": "0d3277f4",
   "metadata": {},
   "source": [
    "- ### bath (number of bathrooms)"
   ]
  },
  {
   "cell_type": "code",
   "execution_count": 2022,
   "id": "11d76680",
   "metadata": {
    "scrolled": false
   },
   "outputs": [
    {
     "data": {
      "text/plain": [
       "1.0      781\n",
       "2.0     6893\n",
       "3.0     3274\n",
       "4.0     1222\n",
       "5.0      521\n",
       "6.0      269\n",
       "7.0      102\n",
       "8.0       64\n",
       "9.0       41\n",
       "10.0      13\n",
       "11.0       3\n",
       "12.0       7\n",
       "13.0       3\n",
       "14.0       1\n",
       "15.0       1\n",
       "16.0       2\n",
       "18.0       1\n",
       "27.0       1\n",
       "40.0       1\n",
       "Name: bath, dtype: int64"
      ]
     },
     "execution_count": 2022,
     "metadata": {},
     "output_type": "execute_result"
    }
   ],
   "source": [
    "df['bath'].value_counts().sort_index()\n",
    "\n",
    "#as much as 40 bathrooms exist per house, any discrepancy is to be checked"
   ]
  },
  {
   "cell_type": "code",
   "execution_count": 2023,
   "id": "8ae0b854",
   "metadata": {
    "scrolled": false
   },
   "outputs": [
    {
     "data": {
      "text/plain": [
       "array(['2 BHK', '4 Bedroom', '3 BHK', '4 BHK', '6 Bedroom', '3 Bedroom',\n",
       "       '1 BHK', '1 RK', '1 Bedroom', '8 Bedroom', '2 Bedroom',\n",
       "       '7 Bedroom', '5 BHK', '7 BHK', '6 BHK', '5 Bedroom', '11 BHK',\n",
       "       '9 BHK', '9 Bedroom', '27 BHK', '10 Bedroom', '11 Bedroom',\n",
       "       '10 BHK', '19 BHK', '16 BHK', '43 Bedroom', '14 BHK', '8 BHK',\n",
       "       '12 Bedroom', '13 BHK', '18 Bedroom'], dtype=object)"
      ]
     },
     "execution_count": 2023,
     "metadata": {},
     "output_type": "execute_result"
    }
   ],
   "source": [
    "#grouping of no. of rooms is required\n",
    "df['size'].unique()"
   ]
  },
  {
   "cell_type": "code",
   "execution_count": 2024,
   "id": "ff5732cf",
   "metadata": {},
   "outputs": [],
   "source": [
    "#before grouping, discard NaN values\n",
    "df = df.dropna(subset=['size'])"
   ]
  },
  {
   "cell_type": "code",
   "execution_count": 2025,
   "id": "030dd06c",
   "metadata": {
    "scrolled": true
   },
   "outputs": [],
   "source": [
    "df['size'] = df['size'].str.split().str.get(0).astype(int)"
   ]
  },
  {
   "cell_type": "code",
   "execution_count": 2026,
   "id": "9f07792f",
   "metadata": {},
   "outputs": [
    {
     "data": {
      "image/png": "[encoded data removed]",
      "text/plain": [
       "<Figure size 800x400 with 1 Axes>"
      ]
     },
     "metadata": {
      "needs_background": "light"
     },
     "output_type": "display_data"
    }
   ],
   "source": [
    "plt.figure(figsize=(8,4),dpi=100)\n",
    "plt.title('no. of bathrooms vs. BHK')\n",
    "sns.barplot(data=df,x='bath',y='size');\n",
    "\n",
    "#there is correlation with no. of rooms"
   ]
  },
  {
   "cell_type": "code",
   "execution_count": 2027,
   "id": "9fb8a040",
   "metadata": {
    "scrolled": false
   },
   "outputs": [
    {
     "data": {
      "image/png": "[encoded data removed]",
      "text/plain": [
       "<Figure size 800x400 with 1 Axes>"
      ]
     },
     "metadata": {
      "needs_background": "light"
     },
     "output_type": "display_data"
    }
   ],
   "source": [
    "plt.figure(figsize=(8,4),dpi=100)\n",
    "plt.title('no. of bathrooms vs. total_sqft')\n",
    "sns.barplot(data=df,x='bath',y='total_sqft');\n",
    "\n",
    "#no correlation between no. of bathrooms and total_sqft"
   ]
  },
  {
   "cell_type": "code",
   "execution_count": 2028,
   "id": "ca52e651",
   "metadata": {},
   "outputs": [],
   "source": [
    "#remove all rows where number of bathrooms > 4\n",
    "\n",
    "df = df[df['bath'] <= 4]"
   ]
  },
  {
   "cell_type": "code",
   "execution_count": 2029,
   "id": "548e264c",
   "metadata": {},
   "outputs": [
    {
     "data": {
      "text/plain": [
       "(12170, 7)"
      ]
     },
     "execution_count": 2029,
     "metadata": {},
     "output_type": "execute_result"
    }
   ],
   "source": [
    "df.shape"
   ]
  },
  {
   "cell_type": "markdown",
   "id": "6c99a8ee",
   "metadata": {},
   "source": [
    "- ### balcony"
   ]
  },
  {
   "cell_type": "code",
   "execution_count": 2030,
   "id": "ff6077d7",
   "metadata": {},
   "outputs": [
    {
     "data": {
      "text/plain": [
       "2.0    4796\n",
       "1.0    4711\n",
       "3.0    1428\n",
       "0.0     903\n",
       "Name: balcony, dtype: int64"
      ]
     },
     "execution_count": 2030,
     "metadata": {},
     "output_type": "execute_result"
    }
   ],
   "source": [
    "df['balcony'].value_counts()"
   ]
  },
  {
   "cell_type": "code",
   "execution_count": 2031,
   "id": "40c8bbf8",
   "metadata": {},
   "outputs": [
    {
     "data": {
      "image/png": "[encoded data removed]",
      "text/plain": [
       "<Figure size 800x400 with 1 Axes>"
      ]
     },
     "metadata": {
      "needs_background": "light"
     },
     "output_type": "display_data"
    }
   ],
   "source": [
    "plt.figure(figsize=(8,4),dpi=100)\n",
    "plt.title('no. of balconies vs. total_sqft')\n",
    "sns.barplot(data=df,x='balcony',y='total_sqft');\n",
    "\n",
    "#judgment here is difficult, so balcony column is dropped altogether"
   ]
  },
  {
   "cell_type": "code",
   "execution_count": 2032,
   "id": "dfd950c2",
   "metadata": {},
   "outputs": [],
   "source": [
    "df = df.drop('balcony',axis=1)"
   ]
  },
  {
   "cell_type": "code",
   "execution_count": 2033,
   "id": "a96da8a8",
   "metadata": {
    "scrolled": true
   },
   "outputs": [
    {
     "data": {
      "text/plain": [
       "Index(['availability', 'location', 'size', 'total_sqft', 'bath', 'price'], dtype='object')"
      ]
     },
     "execution_count": 2033,
     "metadata": {},
     "output_type": "execute_result"
    }
   ],
   "source": [
    "df.columns"
   ]
  },
  {
   "cell_type": "code",
   "execution_count": 2034,
   "id": "eb392381",
   "metadata": {
    "scrolled": false
   },
   "outputs": [
    {
     "name": "stdout",
     "output_type": "stream",
     "text": [
      "AVAILABILITY object\n",
      "['19-Dec' 'Ready To Move' '18-May' '18-Feb' '18-Nov' '20-Dec' '17-Oct'\n",
      " '21-Dec' '19-Sep' '20-Sep' '18-Mar' '18-Apr' '20-Aug' '19-Mar' '17-Sep'\n",
      " '18-Dec' '17-Aug' '19-Apr' '18-Jun' '22-Dec' '22-Jan' '18-Aug' '19-Jan'\n",
      " '17-Jul' '18-Jul' '21-Jun' '20-May' '19-Aug' '18-Sep' '17-May' '17-Jun'\n",
      " '18-Oct' '21-May' '18-Jan' '20-Mar' '17-Dec' '16-Mar' '19-Jun' '22-Jun'\n",
      " '19-Jul' '21-Feb' '19-May' '17-Nov' '20-Oct' '20-Jun' '19-Feb' '21-Oct'\n",
      " '21-Jan' '17-Mar' '17-Apr' '19-Oct' '21-Jul' '21-Nov' '21-Mar' '16-Dec'\n",
      " '22-Mar' '20-Jan' '21-Sep' '21-Aug' '22-May' '14-Nov' '19-Nov' '15-Nov'\n",
      " '16-Jul' '15-Jun' '17-Feb' '20-Nov' '20-Jul' '16-Sep' '15-Oct' '20-Feb'\n",
      " '15-Dec' '16-Oct' '22-Nov' '15-Aug' '17-Jan' '16-Nov' '20-Apr' '16-Jan'\n",
      " '14-Jul']\n",
      "\n",
      "\n",
      "------------\n",
      "\n",
      "\n",
      "LOCATION object\n",
      "['Electronic City Phase II' 'Uttarahalli' 'Lingadheeranahalli' ...\n",
      " '12th cross srinivas nagar banshankari 3rd stage' 'Havanur extension'\n",
      " 'Abshot Layout']\n",
      "\n",
      "\n",
      "------------\n",
      "\n",
      "\n",
      "SIZE int32\n",
      "[2 3 4 1 6 5 7 8]\n",
      "\n",
      "\n",
      "------------\n",
      "\n",
      "\n",
      "TOTAL_SQFT float64\n",
      "[ 686. 1008.  989. ... 2632. 1069. 3048.]\n",
      "\n",
      "\n",
      "------------\n",
      "\n",
      "\n",
      "BATH float64\n",
      "[2. 3. 4. 1.]\n",
      "\n",
      "\n",
      "------------\n",
      "\n",
      "\n",
      "PRICE float64\n",
      "[ 39.  62.  95. ...  40. 231. 488.]\n",
      "\n",
      "\n",
      "------------\n",
      "\n",
      "\n"
     ]
    }
   ],
   "source": [
    "for col in df.columns:\n",
    "    print(col.upper(),df[col].dtype)\n",
    "    print(df[col].unique())\n",
    "    print('\\n\\n------------\\n\\n')"
   ]
  },
  {
   "cell_type": "markdown",
   "id": "2bc5e526",
   "metadata": {},
   "source": [
    "---\n",
    "## Further Preprocessing"
   ]
  },
  {
   "cell_type": "code",
   "execution_count": 2035,
   "id": "0b73be2e",
   "metadata": {},
   "outputs": [
    {
     "data": {
      "text/plain": [
       "1218"
      ]
     },
     "execution_count": 2035,
     "metadata": {},
     "output_type": "execute_result"
    }
   ],
   "source": [
    "df['location'].nunique()"
   ]
  },
  {
   "cell_type": "code",
   "execution_count": 2036,
   "id": "b353dbbc",
   "metadata": {},
   "outputs": [],
   "source": [
    "#for one-hot-encoding location values, reduce dimensionality by cleaning\n",
    "df['location'] = df['location'].apply(lambda x : x.strip())"
   ]
  },
  {
   "cell_type": "code",
   "execution_count": 2037,
   "id": "7d25364a",
   "metadata": {},
   "outputs": [
    {
     "data": {
      "text/plain": [
       "1207"
      ]
     },
     "execution_count": 2037,
     "metadata": {},
     "output_type": "execute_result"
    }
   ],
   "source": [
    "df['location'].nunique()"
   ]
  },
  {
   "cell_type": "code",
   "execution_count": 2038,
   "id": "30e603de",
   "metadata": {},
   "outputs": [],
   "source": [
    "location_counts = df['location'].value_counts()"
   ]
  },
  {
   "cell_type": "code",
   "execution_count": 2039,
   "id": "36eccdf5",
   "metadata": {},
   "outputs": [
    {
     "data": {
      "text/plain": [
       "Whitefield           486\n",
       "Sarjapur  Road       368\n",
       "Electronic City      301\n",
       "Kanakpura Road       259\n",
       "Thanisandra          229\n",
       "                    ... \n",
       "Vidhyanagar Cross      1\n",
       "Defence Layout         1\n",
       "Veerabhadra Nagar      1\n",
       "Kalhalli               1\n",
       "Huttanahalli           1\n",
       "Name: location, Length: 1207, dtype: int64"
      ]
     },
     "execution_count": 2039,
     "metadata": {},
     "output_type": "execute_result"
    }
   ],
   "source": [
    "location_counts"
   ]
  },
  {
   "cell_type": "code",
   "execution_count": 2040,
   "id": "089e9380",
   "metadata": {},
   "outputs": [],
   "source": [
    "minority_count = location_counts[location_counts <= 10]"
   ]
  },
  {
   "cell_type": "code",
   "execution_count": 2041,
   "id": "c6841d66",
   "metadata": {},
   "outputs": [
    {
     "data": {
      "text/plain": [
       "Tindlu               10\n",
       "Ganga Nagar          10\n",
       "Kodigehalli          10\n",
       "LB Shastri Nagar     10\n",
       "Shampura             10\n",
       "                     ..\n",
       "Vidhyanagar Cross     1\n",
       "Defence Layout        1\n",
       "Veerabhadra Nagar     1\n",
       "Kalhalli              1\n",
       "Huttanahalli          1\n",
       "Name: location, Length: 987, dtype: int64"
      ]
     },
     "execution_count": 2041,
     "metadata": {},
     "output_type": "execute_result"
    }
   ],
   "source": [
    "minority_count"
   ]
  },
  {
   "cell_type": "code",
   "execution_count": 2042,
   "id": "0091165c",
   "metadata": {},
   "outputs": [],
   "source": [
    "#group locations having less than 10 homes sold\n",
    "df['location'] = df['location'].apply(lambda x : 'other' if x in minority_count else x)"
   ]
  },
  {
   "cell_type": "code",
   "execution_count": 2043,
   "id": "86b8a62f",
   "metadata": {},
   "outputs": [
    {
     "data": {
      "text/plain": [
       "other                 2696\n",
       "Whitefield             486\n",
       "Sarjapur  Road         368\n",
       "Electronic City        301\n",
       "Kanakpura Road         259\n",
       "                      ... \n",
       "Giri Nagar              11\n",
       "Sarakki Nagar           11\n",
       "Pattandur Agrahara      11\n",
       "Neeladri Nagar          11\n",
       "ISRO Layout             11\n",
       "Name: location, Length: 221, dtype: int64"
      ]
     },
     "execution_count": 2043,
     "metadata": {},
     "output_type": "execute_result"
    }
   ],
   "source": [
    "df['location'].value_counts()\n",
    "#dimension reduced to 211"
   ]
  },
  {
   "cell_type": "code",
   "execution_count": 2044,
   "id": "c9cafc32",
   "metadata": {},
   "outputs": [
    {
     "data": {
      "text/plain": [
       "(12170, 6)"
      ]
     },
     "execution_count": 2044,
     "metadata": {},
     "output_type": "execute_result"
    }
   ],
   "source": [
    "df.shape"
   ]
  },
  {
   "cell_type": "code",
   "execution_count": 2045,
   "id": "6aa24eaa",
   "metadata": {},
   "outputs": [],
   "source": [
    "#calculate price_per_sq_ft for further processing\n",
    "df['price_per_sqft'] = df['price'] * 100000 / df['total_sqft']"
   ]
  },
  {
   "cell_type": "code",
   "execution_count": 2046,
   "id": "5f126c9e",
   "metadata": {
    "scrolled": false
   },
   "outputs": [
    {
     "data": {
      "text/html": [
       "<div>\n",
       "<style scoped>\n",
       "    .dataframe tbody tr th:only-of-type {\n",
       "        vertical-align: middle;\n",
       "    }\n",
       "\n",
       "    .dataframe tbody tr th {\n",
       "        vertical-align: top;\n",
       "    }\n",
       "\n",
       "    .dataframe thead th {\n",
       "        text-align: right;\n",
       "    }\n",
       "</style>\n",
       "<table border=\"1\" class=\"dataframe\">\n",
       "  <thead>\n",
       "    <tr style=\"text-align: right;\">\n",
       "      <th></th>\n",
       "      <th>size</th>\n",
       "      <th>total_sqft</th>\n",
       "      <th>bath</th>\n",
       "      <th>price</th>\n",
       "      <th>price_per_sqft</th>\n",
       "    </tr>\n",
       "  </thead>\n",
       "  <tbody>\n",
       "    <tr>\n",
       "      <th>count</th>\n",
       "      <td>12170.000000</td>\n",
       "      <td>12170.000000</td>\n",
       "      <td>12170.000000</td>\n",
       "      <td>12170.000000</td>\n",
       "      <td>1.217000e+04</td>\n",
       "    </tr>\n",
       "    <tr>\n",
       "      <th>mean</th>\n",
       "      <td>2.566064</td>\n",
       "      <td>952.762025</td>\n",
       "      <td>2.405670</td>\n",
       "      <td>96.371840</td>\n",
       "      <td>1.152690e+04</td>\n",
       "    </tr>\n",
       "    <tr>\n",
       "      <th>std</th>\n",
       "      <td>0.816432</td>\n",
       "      <td>680.191576</td>\n",
       "      <td>0.755195</td>\n",
       "      <td>105.784209</td>\n",
       "      <td>1.818611e+05</td>\n",
       "    </tr>\n",
       "    <tr>\n",
       "      <th>min</th>\n",
       "      <td>1.000000</td>\n",
       "      <td>0.600000</td>\n",
       "      <td>1.000000</td>\n",
       "      <td>8.000000</td>\n",
       "      <td>4.463830e+02</td>\n",
       "    </tr>\n",
       "    <tr>\n",
       "      <th>25%</th>\n",
       "      <td>2.000000</td>\n",
       "      <td>715.000000</td>\n",
       "      <td>2.000000</td>\n",
       "      <td>48.000000</td>\n",
       "      <td>6.388204e+03</td>\n",
       "    </tr>\n",
       "    <tr>\n",
       "      <th>50%</th>\n",
       "      <td>2.000000</td>\n",
       "      <td>826.800000</td>\n",
       "      <td>2.000000</td>\n",
       "      <td>68.000000</td>\n",
       "      <td>8.026219e+03</td>\n",
       "    </tr>\n",
       "    <tr>\n",
       "      <th>75%</th>\n",
       "      <td>3.000000</td>\n",
       "      <td>1054.300000</td>\n",
       "      <td>3.000000</td>\n",
       "      <td>105.000000</td>\n",
       "      <td>1.054099e+04</td>\n",
       "    </tr>\n",
       "    <tr>\n",
       "      <th>max</th>\n",
       "      <td>8.000000</td>\n",
       "      <td>31363.200000</td>\n",
       "      <td>4.000000</td>\n",
       "      <td>2600.000000</td>\n",
       "      <td>2.000000e+07</td>\n",
       "    </tr>\n",
       "  </tbody>\n",
       "</table>\n",
       "</div>"
      ],
      "text/plain": [
       "               size    total_sqft          bath         price  price_per_sqft\n",
       "count  12170.000000  12170.000000  12170.000000  12170.000000    1.217000e+04\n",
       "mean       2.566064    952.762025      2.405670     96.371840    1.152690e+04\n",
       "std        0.816432    680.191576      0.755195    105.784209    1.818611e+05\n",
       "min        1.000000      0.600000      1.000000      8.000000    4.463830e+02\n",
       "25%        2.000000    715.000000      2.000000     48.000000    6.388204e+03\n",
       "50%        2.000000    826.800000      2.000000     68.000000    8.026219e+03\n",
       "75%        3.000000   1054.300000      3.000000    105.000000    1.054099e+04\n",
       "max        8.000000  31363.200000      4.000000   2600.000000    2.000000e+07"
      ]
     },
     "execution_count": 2046,
     "metadata": {},
     "output_type": "execute_result"
    }
   ],
   "source": [
    "df.describe()"
   ]
  },
  {
   "cell_type": "code",
   "execution_count": 2047,
   "id": "56e3f4bf",
   "metadata": {},
   "outputs": [],
   "source": [
    "#eliminate records having impractical area in sq.ft\n",
    "df = df[((df['total_sqft']/df['size']) >= 300)]"
   ]
  },
  {
   "cell_type": "code",
   "execution_count": 2048,
   "id": "b7d06929",
   "metadata": {
    "scrolled": true
   },
   "outputs": [
    {
     "data": {
      "text/plain": [
       "(9860, 7)"
      ]
     },
     "execution_count": 2048,
     "metadata": {},
     "output_type": "execute_result"
    }
   ],
   "source": [
    "df.shape"
   ]
  },
  {
   "cell_type": "code",
   "execution_count": 2049,
   "id": "3583e727",
   "metadata": {},
   "outputs": [
    {
     "data": {
      "text/html": [
       "<div>\n",
       "<style scoped>\n",
       "    .dataframe tbody tr th:only-of-type {\n",
       "        vertical-align: middle;\n",
       "    }\n",
       "\n",
       "    .dataframe tbody tr th {\n",
       "        vertical-align: top;\n",
       "    }\n",
       "\n",
       "    .dataframe thead th {\n",
       "        text-align: right;\n",
       "    }\n",
       "</style>\n",
       "<table border=\"1\" class=\"dataframe\">\n",
       "  <thead>\n",
       "    <tr style=\"text-align: right;\">\n",
       "      <th></th>\n",
       "      <th>availability</th>\n",
       "      <th>location</th>\n",
       "      <th>size</th>\n",
       "      <th>total_sqft</th>\n",
       "      <th>bath</th>\n",
       "      <th>price</th>\n",
       "      <th>price_per_sqft</th>\n",
       "    </tr>\n",
       "  </thead>\n",
       "  <tbody>\n",
       "    <tr>\n",
       "      <th>0</th>\n",
       "      <td>19-Dec</td>\n",
       "      <td>Electronic City Phase II</td>\n",
       "      <td>2</td>\n",
       "      <td>686.40</td>\n",
       "      <td>2.0</td>\n",
       "      <td>39.07</td>\n",
       "      <td>5692.016317</td>\n",
       "    </tr>\n",
       "    <tr>\n",
       "      <th>2</th>\n",
       "      <td>Ready To Move</td>\n",
       "      <td>Uttarahalli</td>\n",
       "      <td>3</td>\n",
       "      <td>1008.00</td>\n",
       "      <td>2.0</td>\n",
       "      <td>62.00</td>\n",
       "      <td>6150.793651</td>\n",
       "    </tr>\n",
       "    <tr>\n",
       "      <th>3</th>\n",
       "      <td>Ready To Move</td>\n",
       "      <td>Lingadheeranahalli</td>\n",
       "      <td>3</td>\n",
       "      <td>988.65</td>\n",
       "      <td>3.0</td>\n",
       "      <td>95.00</td>\n",
       "      <td>9609.062864</td>\n",
       "    </tr>\n",
       "    <tr>\n",
       "      <th>4</th>\n",
       "      <td>Ready To Move</td>\n",
       "      <td>Kothanur</td>\n",
       "      <td>2</td>\n",
       "      <td>780.00</td>\n",
       "      <td>2.0</td>\n",
       "      <td>51.00</td>\n",
       "      <td>6538.461538</td>\n",
       "    </tr>\n",
       "    <tr>\n",
       "      <th>5</th>\n",
       "      <td>Ready To Move</td>\n",
       "      <td>Whitefield</td>\n",
       "      <td>2</td>\n",
       "      <td>760.50</td>\n",
       "      <td>2.0</td>\n",
       "      <td>38.00</td>\n",
       "      <td>4996.712689</td>\n",
       "    </tr>\n",
       "  </tbody>\n",
       "</table>\n",
       "</div>"
      ],
      "text/plain": [
       "    availability                  location  size  total_sqft  bath  price  \\\n",
       "0         19-Dec  Electronic City Phase II     2      686.40   2.0  39.07   \n",
       "2  Ready To Move               Uttarahalli     3     1008.00   2.0  62.00   \n",
       "3  Ready To Move        Lingadheeranahalli     3      988.65   3.0  95.00   \n",
       "4  Ready To Move                  Kothanur     2      780.00   2.0  51.00   \n",
       "5  Ready To Move                Whitefield     2      760.50   2.0  38.00   \n",
       "\n",
       "   price_per_sqft  \n",
       "0     5692.016317  \n",
       "2     6150.793651  \n",
       "3     9609.062864  \n",
       "4     6538.461538  \n",
       "5     4996.712689  "
      ]
     },
     "execution_count": 2049,
     "metadata": {},
     "output_type": "execute_result"
    }
   ],
   "source": [
    "df.head()"
   ]
  },
  {
   "cell_type": "code",
   "execution_count": 2050,
   "id": "36223f76",
   "metadata": {},
   "outputs": [],
   "source": [
    "#for each location, retain only those records whose price is within one std dev. of the entire sample price distribution\n",
    "\n",
    "def remove_outliers_sqft(df):\n",
    "    df_output = pd.DataFrame()\n",
    "    for key,subdf in df.groupby('location'):\n",
    "        m = np.mean(subdf.price_per_sqft)\n",
    "        \n",
    "        st = np.std(subdf.price_per_sqft)\n",
    "        \n",
    "        gen_df = subdf[(subdf.price_per_sqft > (m-st)) & (subdf.price_per_sqft <= (m+st))]\n",
    "        df_output = pd.concat([df_output,gen_df],ignore_index=True)\n",
    "    return df_output"
   ]
  },
  {
   "cell_type": "code",
   "execution_count": 2051,
   "id": "6b551263",
   "metadata": {},
   "outputs": [
    {
     "data": {
      "text/html": [
       "<div>\n",
       "<style scoped>\n",
       "    .dataframe tbody tr th:only-of-type {\n",
       "        vertical-align: middle;\n",
       "    }\n",
       "\n",
       "    .dataframe tbody tr th {\n",
       "        vertical-align: top;\n",
       "    }\n",
       "\n",
       "    .dataframe thead th {\n",
       "        text-align: right;\n",
       "    }\n",
       "</style>\n",
       "<table border=\"1\" class=\"dataframe\">\n",
       "  <thead>\n",
       "    <tr style=\"text-align: right;\">\n",
       "      <th></th>\n",
       "      <th>size</th>\n",
       "      <th>total_sqft</th>\n",
       "      <th>bath</th>\n",
       "      <th>price</th>\n",
       "      <th>price_per_sqft</th>\n",
       "    </tr>\n",
       "  </thead>\n",
       "  <tbody>\n",
       "    <tr>\n",
       "      <th>count</th>\n",
       "      <td>7819.000000</td>\n",
       "      <td>7819.000000</td>\n",
       "      <td>7819.000000</td>\n",
       "      <td>7819.000000</td>\n",
       "      <td>7819.000000</td>\n",
       "    </tr>\n",
       "    <tr>\n",
       "      <th>mean</th>\n",
       "      <td>2.420258</td>\n",
       "      <td>967.324245</td>\n",
       "      <td>2.347487</td>\n",
       "      <td>85.149745</td>\n",
       "      <td>8397.526475</td>\n",
       "    </tr>\n",
       "    <tr>\n",
       "      <th>std</th>\n",
       "      <td>0.689896</td>\n",
       "      <td>496.357861</td>\n",
       "      <td>0.695790</td>\n",
       "      <td>66.620945</td>\n",
       "      <td>2900.175815</td>\n",
       "    </tr>\n",
       "    <tr>\n",
       "      <th>min</th>\n",
       "      <td>1.000000</td>\n",
       "      <td>300.000000</td>\n",
       "      <td>1.000000</td>\n",
       "      <td>10.000000</td>\n",
       "      <td>2826.086957</td>\n",
       "    </tr>\n",
       "    <tr>\n",
       "      <th>25%</th>\n",
       "      <td>2.000000</td>\n",
       "      <td>734.500000</td>\n",
       "      <td>2.000000</td>\n",
       "      <td>50.000000</td>\n",
       "      <td>6503.684632</td>\n",
       "    </tr>\n",
       "    <tr>\n",
       "      <th>50%</th>\n",
       "      <td>2.000000</td>\n",
       "      <td>858.000000</td>\n",
       "      <td>2.000000</td>\n",
       "      <td>68.000000</td>\n",
       "      <td>7857.142857</td>\n",
       "    </tr>\n",
       "    <tr>\n",
       "      <th>75%</th>\n",
       "      <td>3.000000</td>\n",
       "      <td>1084.175000</td>\n",
       "      <td>3.000000</td>\n",
       "      <td>97.790000</td>\n",
       "      <td>9636.610423</td>\n",
       "    </tr>\n",
       "    <tr>\n",
       "      <th>max</th>\n",
       "      <td>6.000000</td>\n",
       "      <td>18240.000000</td>\n",
       "      <td>4.000000</td>\n",
       "      <td>2100.000000</td>\n",
       "      <td>29761.904762</td>\n",
       "    </tr>\n",
       "  </tbody>\n",
       "</table>\n",
       "</div>"
      ],
      "text/plain": [
       "              size    total_sqft         bath        price  price_per_sqft\n",
       "count  7819.000000   7819.000000  7819.000000  7819.000000     7819.000000\n",
       "mean      2.420258    967.324245     2.347487    85.149745     8397.526475\n",
       "std       0.689896    496.357861     0.695790    66.620945     2900.175815\n",
       "min       1.000000    300.000000     1.000000    10.000000     2826.086957\n",
       "25%       2.000000    734.500000     2.000000    50.000000     6503.684632\n",
       "50%       2.000000    858.000000     2.000000    68.000000     7857.142857\n",
       "75%       3.000000   1084.175000     3.000000    97.790000     9636.610423\n",
       "max       6.000000  18240.000000     4.000000  2100.000000    29761.904762"
      ]
     },
     "execution_count": 2051,
     "metadata": {},
     "output_type": "execute_result"
    }
   ],
   "source": [
    "df = remove_outliers_sqft(df)\n",
    "\n",
    "df.describe()"
   ]
  },
  {
   "cell_type": "code",
   "execution_count": 2052,
   "id": "93ce23f9",
   "metadata": {},
   "outputs": [
    {
     "data": {
      "text/plain": [
       "(7819, 7)"
      ]
     },
     "execution_count": 2052,
     "metadata": {},
     "output_type": "execute_result"
    }
   ],
   "source": [
    "df.shape"
   ]
  },
  {
   "cell_type": "code",
   "execution_count": 2053,
   "id": "4660707f",
   "metadata": {},
   "outputs": [],
   "source": [
    "def bhk_outlier_removal(df):\n",
    "    exclude_indices = np.array([])\n",
    "    for location, location_df in df.groupby('location'):\n",
    "        size_stats = {}\n",
    "        for size, size_df in location_df.groupby('size'):\n",
    "            size_stats[size] = {\n",
    "                \n",
    "                'mean':np.mean(size_df.price_per_sqft),\n",
    "                'std':np.std(size_df.price_per_sqft),\n",
    "                'count':size_df.shape[0]\n",
    "            } #calculate stats for each location for each size (BHK)\n",
    "            \n",
    "        for size, size_df in location_df.groupby('size'): \n",
    "            stats = size_stats.get(size-1)\n",
    "            if stats and stats['count'] > 5: #if size exists and contains atleast 5 records \n",
    "                exclude_indices = np.append(exclude_indices,size_df[size_df.price_per_sqft < (stats['mean'])].index.values)\n",
    "    return df.drop(exclude_indices,axis='index') \n",
    "\n",
    "#if price of home of BHK x is less than the mean price of home of BHK x-1, drop record"
   ]
  },
  {
   "cell_type": "code",
   "execution_count": 2054,
   "id": "667930c0",
   "metadata": {},
   "outputs": [],
   "source": [
    "df = bhk_outlier_removal(df)"
   ]
  },
  {
   "cell_type": "code",
   "execution_count": 2055,
   "id": "11f57f03",
   "metadata": {},
   "outputs": [
    {
     "data": {
      "text/plain": [
       "(5710, 7)"
      ]
     },
     "execution_count": 2055,
     "metadata": {},
     "output_type": "execute_result"
    }
   ],
   "source": [
    "df.shape"
   ]
  },
  {
   "cell_type": "code",
   "execution_count": 2056,
   "id": "42e9bd33",
   "metadata": {},
   "outputs": [
    {
     "data": {
      "text/html": [
       "<div>\n",
       "<style scoped>\n",
       "    .dataframe tbody tr th:only-of-type {\n",
       "        vertical-align: middle;\n",
       "    }\n",
       "\n",
       "    .dataframe tbody tr th {\n",
       "        vertical-align: top;\n",
       "    }\n",
       "\n",
       "    .dataframe thead th {\n",
       "        text-align: right;\n",
       "    }\n",
       "</style>\n",
       "<table border=\"1\" class=\"dataframe\">\n",
       "  <thead>\n",
       "    <tr style=\"text-align: right;\">\n",
       "      <th></th>\n",
       "      <th>size</th>\n",
       "      <th>total_sqft</th>\n",
       "      <th>bath</th>\n",
       "      <th>price</th>\n",
       "      <th>price_per_sqft</th>\n",
       "    </tr>\n",
       "  </thead>\n",
       "  <tbody>\n",
       "    <tr>\n",
       "      <th>count</th>\n",
       "      <td>5710.000000</td>\n",
       "      <td>5710.000000</td>\n",
       "      <td>5710.000000</td>\n",
       "      <td>5710.000000</td>\n",
       "      <td>5710.000000</td>\n",
       "    </tr>\n",
       "    <tr>\n",
       "      <th>mean</th>\n",
       "      <td>2.349212</td>\n",
       "      <td>950.639959</td>\n",
       "      <td>2.302977</td>\n",
       "      <td>90.550891</td>\n",
       "      <td>8978.382475</td>\n",
       "    </tr>\n",
       "    <tr>\n",
       "      <th>std</th>\n",
       "      <td>0.700783</td>\n",
       "      <td>522.722197</td>\n",
       "      <td>0.710240</td>\n",
       "      <td>73.486012</td>\n",
       "      <td>3054.038123</td>\n",
       "    </tr>\n",
       "    <tr>\n",
       "      <th>min</th>\n",
       "      <td>1.000000</td>\n",
       "      <td>300.000000</td>\n",
       "      <td>1.000000</td>\n",
       "      <td>10.000000</td>\n",
       "      <td>2826.086957</td>\n",
       "    </tr>\n",
       "    <tr>\n",
       "      <th>25%</th>\n",
       "      <td>2.000000</td>\n",
       "      <td>720.200000</td>\n",
       "      <td>2.000000</td>\n",
       "      <td>50.742500</td>\n",
       "      <td>7018.605837</td>\n",
       "    </tr>\n",
       "    <tr>\n",
       "      <th>50%</th>\n",
       "      <td>2.000000</td>\n",
       "      <td>832.000000</td>\n",
       "      <td>2.000000</td>\n",
       "      <td>72.010000</td>\n",
       "      <td>8571.428571</td>\n",
       "    </tr>\n",
       "    <tr>\n",
       "      <th>75%</th>\n",
       "      <td>3.000000</td>\n",
       "      <td>1082.250000</td>\n",
       "      <td>3.000000</td>\n",
       "      <td>105.000000</td>\n",
       "      <td>10195.631128</td>\n",
       "    </tr>\n",
       "    <tr>\n",
       "      <th>max</th>\n",
       "      <td>6.000000</td>\n",
       "      <td>18240.000000</td>\n",
       "      <td>4.000000</td>\n",
       "      <td>2100.000000</td>\n",
       "      <td>29761.904762</td>\n",
       "    </tr>\n",
       "  </tbody>\n",
       "</table>\n",
       "</div>"
      ],
      "text/plain": [
       "              size    total_sqft         bath        price  price_per_sqft\n",
       "count  5710.000000   5710.000000  5710.000000  5710.000000     5710.000000\n",
       "mean      2.349212    950.639959     2.302977    90.550891     8978.382475\n",
       "std       0.700783    522.722197     0.710240    73.486012     3054.038123\n",
       "min       1.000000    300.000000     1.000000    10.000000     2826.086957\n",
       "25%       2.000000    720.200000     2.000000    50.742500     7018.605837\n",
       "50%       2.000000    832.000000     2.000000    72.010000     8571.428571\n",
       "75%       3.000000   1082.250000     3.000000   105.000000    10195.631128\n",
       "max       6.000000  18240.000000     4.000000  2100.000000    29761.904762"
      ]
     },
     "execution_count": 2056,
     "metadata": {},
     "output_type": "execute_result"
    }
   ],
   "source": [
    "df.describe()"
   ]
  },
  {
   "cell_type": "code",
   "execution_count": 2057,
   "id": "d6953aef",
   "metadata": {},
   "outputs": [],
   "source": [
    "#remove price_per_sq_ft column after processing\n",
    "df = df.drop('price_per_sqft',axis=1)"
   ]
  },
  {
   "cell_type": "code",
   "execution_count": 2058,
   "id": "8bcd6d86",
   "metadata": {
    "scrolled": true
   },
   "outputs": [
    {
     "data": {
      "image/png": "[encoded data removed]",
      "text/plain": [
       "<Figure size 800x300 with 1 Axes>"
      ]
     },
     "metadata": {
      "needs_background": "light"
     },
     "output_type": "display_data"
    }
   ],
   "source": [
    "plt.figure(figsize=(8,3),dpi=100)\n",
    "plt.title('price distribution')\n",
    "sns.boxplot(data=df,x='price')\n",
    "plt.axvline(x=200, color='r', linestyle='--');\n",
    "\n",
    "#final dataset contains outliers, at prices > 2 Crores"
   ]
  },
  {
   "cell_type": "code",
   "execution_count": 2059,
   "id": "900df252",
   "metadata": {},
   "outputs": [
    {
     "data": {
      "text/plain": [
       "320"
      ]
     },
     "execution_count": 2059,
     "metadata": {},
     "output_type": "execute_result"
    }
   ],
   "source": [
    "len(df[df['price'] > 200]) "
   ]
  },
  {
   "cell_type": "code",
   "execution_count": 2060,
   "id": "262320ab",
   "metadata": {},
   "outputs": [],
   "source": [
    "df = df[df['price'] <= 200]"
   ]
  },
  {
   "cell_type": "code",
   "execution_count": 2061,
   "id": "2baed52a",
   "metadata": {
    "scrolled": true
   },
   "outputs": [
    {
     "name": "stderr",
     "output_type": "stream",
     "text": [
      "C:\\Users\\imrvh\\anaconda3\\lib\\site-packages\\pandas\\core\\indexing.py:1637: SettingWithCopyWarning: \n",
      "A value is trying to be set on a copy of a slice from a DataFrame\n",
      "\n",
      "See the caveats in the documentation: https://pandas.pydata.org/pandas-docs/stable/user_guide/indexing.html#returning-a-view-versus-a-copy\n",
      "  self._setitem_single_block(indexer, value, name)\n"
     ]
    }
   ],
   "source": [
    "#custom encode 'availability' before saving csv\n",
    "for i in df.index:\n",
    "    if df['availability'].loc[i] != 'Ready To Move':\n",
    "        df['availability'].loc[i] = 0\n",
    "    else:\n",
    "        df['availability'].loc[i] = 1"
   ]
  },
  {
   "cell_type": "code",
   "execution_count": 2062,
   "id": "f6d601e6",
   "metadata": {},
   "outputs": [],
   "source": [
    "df.to_csv('Clean_Bengaluru_House_Data.csv')"
   ]
  },
  {
   "cell_type": "markdown",
   "id": "6f20f8bf",
   "metadata": {},
   "source": [
    "---\n",
    "## Train Model"
   ]
  },
  {
   "cell_type": "code",
   "execution_count": 2063,
   "id": "32e4ae06",
   "metadata": {},
   "outputs": [],
   "source": [
    "X = df.drop('price',axis=1)\n",
    "y = df['price']"
   ]
  },
  {
   "cell_type": "code",
   "execution_count": 2064,
   "id": "b5d3d401",
   "metadata": {},
   "outputs": [],
   "source": [
    "from sklearn.model_selection import train_test_split,GridSearchCV\n",
    "from sklearn.linear_model import ElasticNet\n",
    "from sklearn.preprocessing import OneHotEncoder, StandardScaler, LabelEncoder\n",
    "from sklearn.compose import make_column_transformer\n",
    "from sklearn.pipeline import make_pipeline\n",
    "from sklearn.metrics import r2_score, mean_absolute_error, mean_squared_error"
   ]
  },
  {
   "cell_type": "code",
   "execution_count": 2065,
   "id": "068dc5e8",
   "metadata": {},
   "outputs": [],
   "source": [
    "X_train, X_test, y_train, y_test = train_test_split(X, y, test_size=0.2, random_state= 28)"
   ]
  },
  {
   "cell_type": "code",
   "execution_count": 2066,
   "id": "31b84824",
   "metadata": {},
   "outputs": [],
   "source": [
    "transformer = make_column_transformer((OneHotEncoder(sparse=False),['location']),remainder='passthrough')"
   ]
  },
  {
   "cell_type": "code",
   "execution_count": 2067,
   "id": "7debd960",
   "metadata": {},
   "outputs": [],
   "source": [
    "scaler = StandardScaler()"
   ]
  },
  {
   "cell_type": "markdown",
   "id": "5fc001f6",
   "metadata": {},
   "source": [
    "### ElasticNet - Regularization"
   ]
  },
  {
   "cell_type": "code",
   "execution_count": 2068,
   "id": "c6f8114c",
   "metadata": {},
   "outputs": [],
   "source": [
    "base_elastic_model = ElasticNet()"
   ]
  },
  {
   "cell_type": "code",
   "execution_count": 2069,
   "id": "277dbf02",
   "metadata": {},
   "outputs": [],
   "source": [
    "param_grid = {'alpha':[0.1,1,5,10,50,100],\n",
    "              'l1_ratio':[.1, .5, .7, .9, .95, .99, 1]}"
   ]
  },
  {
   "cell_type": "code",
   "execution_count": 2070,
   "id": "266ba2e9",
   "metadata": {},
   "outputs": [],
   "source": [
    "grid_model = GridSearchCV(estimator=base_elastic_model,\n",
    "                          param_grid=param_grid,\n",
    "                          scoring='neg_root_mean_squared_error',\n",
    "                          cv=5,\n",
    "                          verbose=2)"
   ]
  },
  {
   "cell_type": "code",
   "execution_count": 2071,
   "id": "99a4d193",
   "metadata": {},
   "outputs": [],
   "source": [
    "pipe = make_pipeline(transformer,scaler,grid_model)"
   ]
  },
  {
   "cell_type": "code",
   "execution_count": 2072,
   "id": "b360fc3b",
   "metadata": {
    "scrolled": true
   },
   "outputs": [
    {
     "name": "stdout",
     "output_type": "stream",
     "text": [
      "Fitting 5 folds for each of 42 candidates, totalling 210 fits\n",
      "[CV] END ............................alpha=0.1, l1_ratio=0.1; total time=   0.0s\n",
      "[CV] END ............................alpha=0.1, l1_ratio=0.1; total time=   0.0s\n",
      "[CV] END ............................alpha=0.1, l1_ratio=0.1; total time=   0.0s\n",
      "[CV] END ............................alpha=0.1, l1_ratio=0.1; total time=   0.0s\n",
      "[CV] END ............................alpha=0.1, l1_ratio=0.1; total time=   0.0s\n",
      "[CV] END ............................alpha=0.1, l1_ratio=0.5; total time=   0.0s\n",
      "[CV] END ............................alpha=0.1, l1_ratio=0.5; total time=   0.0s\n",
      "[CV] END ............................alpha=0.1, l1_ratio=0.5; total time=   0.0s\n",
      "[CV] END ............................alpha=0.1, l1_ratio=0.5; total time=   0.0s\n",
      "[CV] END ............................alpha=0.1, l1_ratio=0.5; total time=   0.0s\n",
      "[CV] END ............................alpha=0.1, l1_ratio=0.7; total time=   0.0s\n",
      "[CV] END ............................alpha=0.1, l1_ratio=0.7; total time=   0.0s\n",
      "[CV] END ............................alpha=0.1, l1_ratio=0.7; total time=   0.0s\n",
      "[CV] END ............................alpha=0.1, l1_ratio=0.7; total time=   0.0s\n",
      "[CV] END ............................alpha=0.1, l1_ratio=0.7; total time=   0.0s\n",
      "[CV] END ............................alpha=0.1, l1_ratio=0.9; total time=   0.0s\n",
      "[CV] END ............................alpha=0.1, l1_ratio=0.9; total time=   0.0s\n",
      "[CV] END ............................alpha=0.1, l1_ratio=0.9; total time=   0.0s\n",
      "[CV] END ............................alpha=0.1, l1_ratio=0.9; total time=   0.0s\n",
      "[CV] END ............................alpha=0.1, l1_ratio=0.9; total time=   0.0s\n",
      "[CV] END ...........................alpha=0.1, l1_ratio=0.95; total time=   0.0s\n",
      "[CV] END ...........................alpha=0.1, l1_ratio=0.95; total time=   0.0s\n",
      "[CV] END ...........................alpha=0.1, l1_ratio=0.95; total time=   0.0s\n",
      "[CV] END ...........................alpha=0.1, l1_ratio=0.95; total time=   0.0s\n",
      "[CV] END ...........................alpha=0.1, l1_ratio=0.95; total time=   0.0s\n",
      "[CV] END ...........................alpha=0.1, l1_ratio=0.99; total time=   0.0s\n",
      "[CV] END ...........................alpha=0.1, l1_ratio=0.99; total time=   0.0s\n",
      "[CV] END ...........................alpha=0.1, l1_ratio=0.99; total time=   0.0s\n",
      "[CV] END ...........................alpha=0.1, l1_ratio=0.99; total time=   0.0s\n",
      "[CV] END ...........................alpha=0.1, l1_ratio=0.99; total time=   0.0s\n",
      "[CV] END ..............................alpha=0.1, l1_ratio=1; total time=   0.0s\n",
      "[CV] END ..............................alpha=0.1, l1_ratio=1; total time=   0.0s\n",
      "[CV] END ..............................alpha=0.1, l1_ratio=1; total time=   0.0s\n",
      "[CV] END ..............................alpha=0.1, l1_ratio=1; total time=   0.0s\n",
      "[CV] END ..............................alpha=0.1, l1_ratio=1; total time=   0.0s\n",
      "[CV] END ..............................alpha=1, l1_ratio=0.1; total time=   0.0s\n",
      "[CV] END ..............................alpha=1, l1_ratio=0.1; total time=   0.0s\n",
      "[CV] END ..............................alpha=1, l1_ratio=0.1; total time=   0.0s\n",
      "[CV] END ..............................alpha=1, l1_ratio=0.1; total time=   0.0s\n",
      "[CV] END ..............................alpha=1, l1_ratio=0.1; total time=   0.0s\n",
      "[CV] END ..............................alpha=1, l1_ratio=0.5; total time=   0.0s\n",
      "[CV] END ..............................alpha=1, l1_ratio=0.5; total time=   0.0s\n",
      "[CV] END ..............................alpha=1, l1_ratio=0.5; total time=   0.0s\n",
      "[CV] END ..............................alpha=1, l1_ratio=0.5; total time=   0.0s\n",
      "[CV] END ..............................alpha=1, l1_ratio=0.5; total time=   0.0s\n",
      "[CV] END ..............................alpha=1, l1_ratio=0.7; total time=   0.0s\n",
      "[CV] END ..............................alpha=1, l1_ratio=0.7; total time=   0.0s\n",
      "[CV] END ..............................alpha=1, l1_ratio=0.7; total time=   0.0s\n",
      "[CV] END ..............................alpha=1, l1_ratio=0.7; total time=   0.0s\n",
      "[CV] END ..............................alpha=1, l1_ratio=0.7; total time=   0.0s\n",
      "[CV] END ..............................alpha=1, l1_ratio=0.9; total time=   0.0s\n",
      "[CV] END ..............................alpha=1, l1_ratio=0.9; total time=   0.0s\n",
      "[CV] END ..............................alpha=1, l1_ratio=0.9; total time=   0.0s\n",
      "[CV] END ..............................alpha=1, l1_ratio=0.9; total time=   0.0s\n",
      "[CV] END ..............................alpha=1, l1_ratio=0.9; total time=   0.0s\n",
      "[CV] END .............................alpha=1, l1_ratio=0.95; total time=   0.0s\n",
      "[CV] END .............................alpha=1, l1_ratio=0.95; total time=   0.0s\n",
      "[CV] END .............................alpha=1, l1_ratio=0.95; total time=   0.0s\n",
      "[CV] END .............................alpha=1, l1_ratio=0.95; total time=   0.0s\n",
      "[CV] END .............................alpha=1, l1_ratio=0.95; total time=   0.0s\n",
      "[CV] END .............................alpha=1, l1_ratio=0.99; total time=   0.0s\n",
      "[CV] END .............................alpha=1, l1_ratio=0.99; total time=   0.0s\n",
      "[CV] END .............................alpha=1, l1_ratio=0.99; total time=   0.0s\n",
      "[CV] END .............................alpha=1, l1_ratio=0.99; total time=   0.0s\n",
      "[CV] END .............................alpha=1, l1_ratio=0.99; total time=   0.0s\n",
      "[CV] END ................................alpha=1, l1_ratio=1; total time=   0.0s\n",
      "[CV] END ................................alpha=1, l1_ratio=1; total time=   0.0s\n",
      "[CV] END ................................alpha=1, l1_ratio=1; total time=   0.0s\n",
      "[CV] END ................................alpha=1, l1_ratio=1; total time=   0.0s\n",
      "[CV] END ................................alpha=1, l1_ratio=1; total time=   0.0s\n",
      "[CV] END ..............................alpha=5, l1_ratio=0.1; total time=   0.0s\n",
      "[CV] END ..............................alpha=5, l1_ratio=0.1; total time=   0.0s\n",
      "[CV] END ..............................alpha=5, l1_ratio=0.1; total time=   0.0s\n",
      "[CV] END ..............................alpha=5, l1_ratio=0.1; total time=   0.0s\n",
      "[CV] END ..............................alpha=5, l1_ratio=0.1; total time=   0.0s\n",
      "[CV] END ..............................alpha=5, l1_ratio=0.5; total time=   0.0s\n",
      "[CV] END ..............................alpha=5, l1_ratio=0.5; total time=   0.0s\n",
      "[CV] END ..............................alpha=5, l1_ratio=0.5; total time=   0.0s\n",
      "[CV] END ..............................alpha=5, l1_ratio=0.5; total time=   0.0s\n",
      "[CV] END ..............................alpha=5, l1_ratio=0.5; total time=   0.0s\n",
      "[CV] END ..............................alpha=5, l1_ratio=0.7; total time=   0.0s\n",
      "[CV] END ..............................alpha=5, l1_ratio=0.7; total time=   0.0s\n",
      "[CV] END ..............................alpha=5, l1_ratio=0.7; total time=   0.0s\n",
      "[CV] END ..............................alpha=5, l1_ratio=0.7; total time=   0.0s\n",
      "[CV] END ..............................alpha=5, l1_ratio=0.7; total time=   0.0s\n",
      "[CV] END ..............................alpha=5, l1_ratio=0.9; total time=   0.0s\n",
      "[CV] END ..............................alpha=5, l1_ratio=0.9; total time=   0.0s\n",
      "[CV] END ..............................alpha=5, l1_ratio=0.9; total time=   0.0s\n",
      "[CV] END ..............................alpha=5, l1_ratio=0.9; total time=   0.0s\n",
      "[CV] END ..............................alpha=5, l1_ratio=0.9; total time=   0.0s\n",
      "[CV] END .............................alpha=5, l1_ratio=0.95; total time=   0.0s\n",
      "[CV] END .............................alpha=5, l1_ratio=0.95; total time=   0.0s\n",
      "[CV] END .............................alpha=5, l1_ratio=0.95; total time=   0.0s\n",
      "[CV] END .............................alpha=5, l1_ratio=0.95; total time=   0.0s\n",
      "[CV] END .............................alpha=5, l1_ratio=0.95; total time=   0.0s\n",
      "[CV] END .............................alpha=5, l1_ratio=0.99; total time=   0.0s\n",
      "[CV] END .............................alpha=5, l1_ratio=0.99; total time=   0.0s\n",
      "[CV] END .............................alpha=5, l1_ratio=0.99; total time=   0.0s\n",
      "[CV] END .............................alpha=5, l1_ratio=0.99; total time=   0.0s\n",
      "[CV] END .............................alpha=5, l1_ratio=0.99; total time=   0.0s\n",
      "[CV] END ................................alpha=5, l1_ratio=1; total time=   0.0s\n",
      "[CV] END ................................alpha=5, l1_ratio=1; total time=   0.0s\n",
      "[CV] END ................................alpha=5, l1_ratio=1; total time=   0.0s\n",
      "[CV] END ................................alpha=5, l1_ratio=1; total time=   0.0s\n",
      "[CV] END ................................alpha=5, l1_ratio=1; total time=   0.0s\n",
      "[CV] END .............................alpha=10, l1_ratio=0.1; total time=   0.0s\n",
      "[CV] END .............................alpha=10, l1_ratio=0.1; total time=   0.0s\n",
      "[CV] END .............................alpha=10, l1_ratio=0.1; total time=   0.0s\n"
     ]
    },
    {
     "name": "stdout",
     "output_type": "stream",
     "text": [
      "[CV] END .............................alpha=10, l1_ratio=0.1; total time=   0.0s\n",
      "[CV] END .............................alpha=10, l1_ratio=0.1; total time=   0.0s\n",
      "[CV] END .............................alpha=10, l1_ratio=0.5; total time=   0.0s\n",
      "[CV] END .............................alpha=10, l1_ratio=0.5; total time=   0.0s\n",
      "[CV] END .............................alpha=10, l1_ratio=0.5; total time=   0.0s\n",
      "[CV] END .............................alpha=10, l1_ratio=0.5; total time=   0.0s\n",
      "[CV] END .............................alpha=10, l1_ratio=0.5; total time=   0.0s\n",
      "[CV] END .............................alpha=10, l1_ratio=0.7; total time=   0.0s\n",
      "[CV] END .............................alpha=10, l1_ratio=0.7; total time=   0.0s\n",
      "[CV] END .............................alpha=10, l1_ratio=0.7; total time=   0.0s\n",
      "[CV] END .............................alpha=10, l1_ratio=0.7; total time=   0.0s\n",
      "[CV] END .............................alpha=10, l1_ratio=0.7; total time=   0.0s\n",
      "[CV] END .............................alpha=10, l1_ratio=0.9; total time=   0.0s\n",
      "[CV] END .............................alpha=10, l1_ratio=0.9; total time=   0.0s\n",
      "[CV] END .............................alpha=10, l1_ratio=0.9; total time=   0.0s\n",
      "[CV] END .............................alpha=10, l1_ratio=0.9; total time=   0.0s\n",
      "[CV] END .............................alpha=10, l1_ratio=0.9; total time=   0.0s\n",
      "[CV] END ............................alpha=10, l1_ratio=0.95; total time=   0.0s\n",
      "[CV] END ............................alpha=10, l1_ratio=0.95; total time=   0.0s\n",
      "[CV] END ............................alpha=10, l1_ratio=0.95; total time=   0.0s\n",
      "[CV] END ............................alpha=10, l1_ratio=0.95; total time=   0.0s\n",
      "[CV] END ............................alpha=10, l1_ratio=0.95; total time=   0.0s\n",
      "[CV] END ............................alpha=10, l1_ratio=0.99; total time=   0.0s\n",
      "[CV] END ............................alpha=10, l1_ratio=0.99; total time=   0.0s\n",
      "[CV] END ............................alpha=10, l1_ratio=0.99; total time=   0.0s\n",
      "[CV] END ............................alpha=10, l1_ratio=0.99; total time=   0.0s\n",
      "[CV] END ............................alpha=10, l1_ratio=0.99; total time=   0.0s\n",
      "[CV] END ...............................alpha=10, l1_ratio=1; total time=   0.0s\n",
      "[CV] END ...............................alpha=10, l1_ratio=1; total time=   0.0s\n",
      "[CV] END ...............................alpha=10, l1_ratio=1; total time=   0.0s\n",
      "[CV] END ...............................alpha=10, l1_ratio=1; total time=   0.0s\n",
      "[CV] END ...............................alpha=10, l1_ratio=1; total time=   0.0s\n",
      "[CV] END .............................alpha=50, l1_ratio=0.1; total time=   0.0s\n",
      "[CV] END .............................alpha=50, l1_ratio=0.1; total time=   0.0s\n",
      "[CV] END .............................alpha=50, l1_ratio=0.1; total time=   0.0s\n",
      "[CV] END .............................alpha=50, l1_ratio=0.1; total time=   0.0s\n",
      "[CV] END .............................alpha=50, l1_ratio=0.1; total time=   0.0s\n",
      "[CV] END .............................alpha=50, l1_ratio=0.5; total time=   0.0s\n",
      "[CV] END .............................alpha=50, l1_ratio=0.5; total time=   0.0s\n",
      "[CV] END .............................alpha=50, l1_ratio=0.5; total time=   0.0s\n",
      "[CV] END .............................alpha=50, l1_ratio=0.5; total time=   0.0s\n",
      "[CV] END .............................alpha=50, l1_ratio=0.5; total time=   0.0s\n",
      "[CV] END .............................alpha=50, l1_ratio=0.7; total time=   0.0s\n",
      "[CV] END .............................alpha=50, l1_ratio=0.7; total time=   0.0s\n",
      "[CV] END .............................alpha=50, l1_ratio=0.7; total time=   0.0s\n",
      "[CV] END .............................alpha=50, l1_ratio=0.7; total time=   0.0s\n",
      "[CV] END .............................alpha=50, l1_ratio=0.7; total time=   0.0s\n",
      "[CV] END .............................alpha=50, l1_ratio=0.9; total time=   0.0s\n",
      "[CV] END .............................alpha=50, l1_ratio=0.9; total time=   0.0s\n",
      "[CV] END .............................alpha=50, l1_ratio=0.9; total time=   0.0s\n",
      "[CV] END .............................alpha=50, l1_ratio=0.9; total time=   0.0s\n",
      "[CV] END .............................alpha=50, l1_ratio=0.9; total time=   0.0s\n",
      "[CV] END ............................alpha=50, l1_ratio=0.95; total time=   0.0s\n",
      "[CV] END ............................alpha=50, l1_ratio=0.95; total time=   0.0s\n",
      "[CV] END ............................alpha=50, l1_ratio=0.95; total time=   0.0s\n",
      "[CV] END ............................alpha=50, l1_ratio=0.95; total time=   0.0s\n",
      "[CV] END ............................alpha=50, l1_ratio=0.95; total time=   0.0s\n",
      "[CV] END ............................alpha=50, l1_ratio=0.99; total time=   0.0s\n",
      "[CV] END ............................alpha=50, l1_ratio=0.99; total time=   0.0s\n",
      "[CV] END ............................alpha=50, l1_ratio=0.99; total time=   0.0s\n",
      "[CV] END ............................alpha=50, l1_ratio=0.99; total time=   0.0s\n",
      "[CV] END ............................alpha=50, l1_ratio=0.99; total time=   0.0s\n",
      "[CV] END ...............................alpha=50, l1_ratio=1; total time=   0.0s\n",
      "[CV] END ...............................alpha=50, l1_ratio=1; total time=   0.0s\n",
      "[CV] END ...............................alpha=50, l1_ratio=1; total time=   0.0s\n",
      "[CV] END ...............................alpha=50, l1_ratio=1; total time=   0.0s\n",
      "[CV] END ...............................alpha=50, l1_ratio=1; total time=   0.0s\n",
      "[CV] END ............................alpha=100, l1_ratio=0.1; total time=   0.0s\n",
      "[CV] END ............................alpha=100, l1_ratio=0.1; total time=   0.0s\n",
      "[CV] END ............................alpha=100, l1_ratio=0.1; total time=   0.0s\n",
      "[CV] END ............................alpha=100, l1_ratio=0.1; total time=   0.0s\n",
      "[CV] END ............................alpha=100, l1_ratio=0.1; total time=   0.0s\n",
      "[CV] END ............................alpha=100, l1_ratio=0.5; total time=   0.0s\n",
      "[CV] END ............................alpha=100, l1_ratio=0.5; total time=   0.0s\n",
      "[CV] END ............................alpha=100, l1_ratio=0.5; total time=   0.0s\n",
      "[CV] END ............................alpha=100, l1_ratio=0.5; total time=   0.0s\n",
      "[CV] END ............................alpha=100, l1_ratio=0.5; total time=   0.0s\n",
      "[CV] END ............................alpha=100, l1_ratio=0.7; total time=   0.0s\n",
      "[CV] END ............................alpha=100, l1_ratio=0.7; total time=   0.0s\n",
      "[CV] END ............................alpha=100, l1_ratio=0.7; total time=   0.0s\n",
      "[CV] END ............................alpha=100, l1_ratio=0.7; total time=   0.0s\n",
      "[CV] END ............................alpha=100, l1_ratio=0.7; total time=   0.0s\n",
      "[CV] END ............................alpha=100, l1_ratio=0.9; total time=   0.0s\n",
      "[CV] END ............................alpha=100, l1_ratio=0.9; total time=   0.0s\n",
      "[CV] END ............................alpha=100, l1_ratio=0.9; total time=   0.0s\n",
      "[CV] END ............................alpha=100, l1_ratio=0.9; total time=   0.0s\n",
      "[CV] END ............................alpha=100, l1_ratio=0.9; total time=   0.0s\n",
      "[CV] END ...........................alpha=100, l1_ratio=0.95; total time=   0.0s\n",
      "[CV] END ...........................alpha=100, l1_ratio=0.95; total time=   0.0s\n",
      "[CV] END ...........................alpha=100, l1_ratio=0.95; total time=   0.0s\n",
      "[CV] END ...........................alpha=100, l1_ratio=0.95; total time=   0.0s\n",
      "[CV] END ...........................alpha=100, l1_ratio=0.95; total time=   0.0s\n",
      "[CV] END ...........................alpha=100, l1_ratio=0.99; total time=   0.0s\n",
      "[CV] END ...........................alpha=100, l1_ratio=0.99; total time=   0.0s\n",
      "[CV] END ...........................alpha=100, l1_ratio=0.99; total time=   0.0s\n",
      "[CV] END ...........................alpha=100, l1_ratio=0.99; total time=   0.0s\n",
      "[CV] END ...........................alpha=100, l1_ratio=0.99; total time=   0.0s\n",
      "[CV] END ..............................alpha=100, l1_ratio=1; total time=   0.0s\n",
      "[CV] END ..............................alpha=100, l1_ratio=1; total time=   0.0s\n",
      "[CV] END ..............................alpha=100, l1_ratio=1; total time=   0.0s\n",
      "[CV] END ..............................alpha=100, l1_ratio=1; total time=   0.0s\n",
      "[CV] END ..............................alpha=100, l1_ratio=1; total time=   0.0s\n"
     ]
    },
    {
     "data": {
      "text/plain": [
       "Pipeline(steps=[('columntransformer',\n",
       "                 ColumnTransformer(remainder='passthrough',\n",
       "                                   transformers=[('onehotencoder',\n",
       "                                                  OneHotEncoder(sparse=False),\n",
       "                                                  ['location'])])),\n",
       "                ('standardscaler', StandardScaler()),\n",
       "                ('gridsearchcv',\n",
       "                 GridSearchCV(cv=5, estimator=ElasticNet(),\n",
       "                              param_grid={'alpha': [0.1, 1, 5, 10, 50, 100],\n",
       "                                          'l1_ratio': [0.1, 0.5, 0.7, 0.9, 0.95,\n",
       "                                                       0.99, 1]},\n",
       "                              scoring='neg_root_mean_squared_error',\n",
       "                              verbose=2))])"
      ]
     },
     "execution_count": 2072,
     "metadata": {},
     "output_type": "execute_result"
    }
   ],
   "source": [
    "pipe.fit(X_train,y_train)"
   ]
  },
  {
   "cell_type": "code",
   "execution_count": 2073,
   "id": "4fff967d",
   "metadata": {},
   "outputs": [
    {
     "data": {
      "text/plain": [
       "ElasticNet(alpha=0.1, l1_ratio=0.9)"
      ]
     },
     "execution_count": 2073,
     "metadata": {},
     "output_type": "execute_result"
    }
   ],
   "source": [
    "grid_model.best_estimator_"
   ]
  },
  {
   "cell_type": "code",
   "execution_count": 2074,
   "id": "48b22d6c",
   "metadata": {},
   "outputs": [
    {
     "data": {
      "text/plain": [
       "{'alpha': 0.1, 'l1_ratio': 0.9}"
      ]
     },
     "execution_count": 2074,
     "metadata": {},
     "output_type": "execute_result"
    }
   ],
   "source": [
    "grid_model.best_params_"
   ]
  },
  {
   "cell_type": "code",
   "execution_count": 2075,
   "id": "9f4e2b24",
   "metadata": {
    "scrolled": true
   },
   "outputs": [],
   "source": [
    "y_pred = pipe.predict(X_test)"
   ]
  },
  {
   "cell_type": "code",
   "execution_count": 2076,
   "id": "c459db47",
   "metadata": {},
   "outputs": [
    {
     "data": {
      "text/plain": [
       "0.8373583542722149"
      ]
     },
     "execution_count": 2076,
     "metadata": {},
     "output_type": "execute_result"
    }
   ],
   "source": [
    "#measures extent of explainability of target using model's features\n",
    "r2_score(y_test,y_pred)"
   ]
  },
  {
   "cell_type": "code",
   "execution_count": 2077,
   "id": "90da7ad8",
   "metadata": {},
   "outputs": [
    {
     "data": {
      "text/plain": [
       "10.3679800429854"
      ]
     },
     "execution_count": 2077,
     "metadata": {},
     "output_type": "execute_result"
    }
   ],
   "source": [
    "mean_absolute_error(y_test,y_pred)"
   ]
  },
  {
   "cell_type": "code",
   "execution_count": 2078,
   "id": "923d4eb9",
   "metadata": {},
   "outputs": [
    {
     "data": {
      "text/plain": [
       "14.845681152486211"
      ]
     },
     "execution_count": 2078,
     "metadata": {},
     "output_type": "execute_result"
    }
   ],
   "source": [
    "#large difference in RMSE and MAE indicates outlier's effect\n",
    "np.sqrt(mean_squared_error(y_test,y_pred))"
   ]
  },
  {
   "cell_type": "markdown",
   "id": "c082fc7f",
   "metadata": {},
   "source": [
    "**Benchmark for LR model - RMSE must be within 20% of Average Price**"
   ]
  },
  {
   "cell_type": "code",
   "execution_count": 2079,
   "id": "017c953e",
   "metadata": {
    "scrolled": true
   },
   "outputs": [
    {
     "data": {
      "text/plain": [
       "15.565921706864541"
      ]
     },
     "execution_count": 2079,
     "metadata": {},
     "output_type": "execute_result"
    }
   ],
   "source": [
    "0.2 * df['price'].mean()"
   ]
  },
  {
   "cell_type": "code",
   "execution_count": 2080,
   "id": "01b73eb4",
   "metadata": {
    "scrolled": false
   },
   "outputs": [
    {
     "name": "stdout",
     "output_type": "stream",
     "text": [
      "[[ 39.  41.]\n",
      " [155. 135.]\n",
      " [ 56.  48.]\n",
      " [ 53.  69.]\n",
      " [ 88. 100.]\n",
      " [ 70.  76.]\n",
      " [ 59.  81.]\n",
      " [ 35.  34.]\n",
      " [ 85.  82.]\n",
      " [100. 127.]\n",
      " [ 77.  84.]]\n"
     ]
    }
   ],
   "source": [
    "np.set_printoptions(precision=0)\n",
    "print(np.concatenate((pd.DataFrame(y_test),pd.DataFrame(y_pred)),1)[:11])"
   ]
  },
  {
   "cell_type": "code",
   "execution_count": 2081,
   "id": "90fa6b6a",
   "metadata": {
    "scrolled": true
   },
   "outputs": [
    {
     "data": {
      "image/png": "[encoded data removed]",
      "text/plain": [
       "<Figure size 432x288 with 1 Axes>"
      ]
     },
     "metadata": {
      "needs_background": "light"
     },
     "output_type": "display_data"
    }
   ],
   "source": [
    "#residual plot to check for patterns\n",
    "test_res = y_test - y_pred\n",
    "sns.scatterplot(x=y_test,y=test_res)\n",
    "plt.xlabel('Actual Price')\n",
    "plt.ylabel('test_residual')\n",
    "plt.title('actual price vs. test_residual plot')\n",
    "plt.axhline(y=0, color='r', linestyle='--');"
   ]
  },
  {
   "cell_type": "code",
   "execution_count": 2082,
   "id": "741a9329",
   "metadata": {
    "scrolled": false
   },
   "outputs": [
    {
     "data": {
      "image/png": "[encoded data removed]",
      "text/plain": [
       "<Figure size 360x360 with 1 Axes>"
      ]
     },
     "metadata": {
      "needs_background": "light"
     },
     "output_type": "display_data"
    }
   ],
   "source": [
    "#normality check\n",
    "sns.displot(test_res,kde=True);"
   ]
  },
  {
   "cell_type": "markdown",
   "id": "51821fc9",
   "metadata": {},
   "source": [
    "---\n",
    "### Load Model"
   ]
  },
  {
   "cell_type": "code",
   "execution_count": 2083,
   "id": "dc78562e",
   "metadata": {},
   "outputs": [],
   "source": [
    "import pickle"
   ]
  },
  {
   "cell_type": "code",
   "execution_count": 2084,
   "id": "8afe69ea",
   "metadata": {},
   "outputs": [],
   "source": [
    "pickle.dump(pipe, open('model.pkl','wb'))"
   ]
  },
  {
   "cell_type": "markdown",
   "id": "824baba1",
   "metadata": {},
   "source": [
    "---"
   ]
  }
 ],
 "metadata": {
  "kernelspec": {
   "display_name": "Python 3",
   "language": "python",
   "name": "python3"
  },
  "language_info": {
   "codemirror_mode": {
    "name": "ipython",
    "version": 3
   },
   "file_extension": ".py",
   "mimetype": "text/x-python",
   "name": "python",
   "nbconvert_exporter": "python",
   "pygments_lexer": "ipython3",
   "version": "3.8.8"
  }
 },
 "nbformat": 4,
 "nbformat_minor": 5
}
